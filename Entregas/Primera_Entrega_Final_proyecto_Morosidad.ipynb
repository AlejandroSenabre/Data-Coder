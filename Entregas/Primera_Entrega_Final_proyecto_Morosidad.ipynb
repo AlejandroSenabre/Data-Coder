{
  "cells": [
    {
      "cell_type": "markdown",
      "metadata": {
        "id": "view-in-github",
        "colab_type": "text"
      },
      "source": [
        "<a href=\"https://colab.research.google.com/github/AlejandroSenabre/Proyecto-Data-Science-CoderHouse/blob/main/Primera_Entrega_Final_proyecto_Morosidad.ipynb\" target=\"_parent\"><img src=\"https://colab.research.google.com/assets/colab-badge.svg\" alt=\"Open In Colab\"/></a>"
      ]
    },
    {
      "cell_type": "markdown",
      "source": [
        "# Optimización de la asignación de préstamos: analisis de la morosidad en el sector bancario"
      ],
      "metadata": {
        "id": "QBNnEDOX4kb5"
      }
    },
    {
      "cell_type": "markdown",
      "source": [
        "Alumno: Alejandro Senabre"
      ],
      "metadata": {
        "id": "8dTD1W99Csw_"
      }
    },
    {
      "cell_type": "markdown",
      "source": [
        "## **Índice**   \n",
        "1. [*Introducción*](#id1)  \n",
        "2. [*Preview y carga del DataSet*](#id2)  \n",
        "3. [*Lectura y transformación de los datos*](#id3)   \n",
        "\n",
        "    3.1     [*Analisis de las variables numericas*](#id31)    \n",
        "\n",
        "    3.2     [*Analisis de las variables categoricas*](#id32) \n",
        "\n",
        "    3.3     [*Transformación*](#id33) \n",
        "\n",
        "\n",
        "4. [Modelo predictivo](#id40)    \n",
        "\n",
        "    4.1     [*Árbol de decisión*](#id41) \n",
        "\n",
        "    4.2     [*KNN*](#id42)\n",
        "\n",
        "    4.3 [Regresión Logistica](#id53)\n",
        "\n",
        "5. [Conclusiones](#id50)  \n",
        "\n",
        "\n"
      ],
      "metadata": {
        "id": "mUSkhueC7Awn"
      }
    },
    {
      "cell_type": "markdown",
      "source": [
        "## 1. **Introducción** <a name=\"id1\"></a>"
      ],
      "metadata": {
        "id": "aXKtx6tG5MEm"
      }
    },
    {
      "cell_type": "markdown",
      "source": [
        "Una de las funciones más importantes en un banco es su labor como prestamista de dinero, necesario para el crecimiento económico de un país al permitir a los usuarios hacerse de un monto de dinero en el apto que de otra forma le hubiera sido difícil o imposible de obtener, y esto es fundamental para mover la economía al ser habitualmente usado como método de financiación de diversos proyectos\n",
        "\n",
        "Para un banco, hacer rentable el sistema de préstamos es fundamental para mantener su solvencia y continuar brindando servicios financieros a sus clientes. Esto implica que la banca debe financiarse con los intereses que cobra a sus clientes y tener un flujo de efectivo suficiente para poder seguir otorgando nuevos créditos y afrontar las pérdidas por morosidad. Este último es un factor clave que va a determinar la rentabilidad de un banco ya que es el mayor riesgo asociado con la concesión de préstamos. La morosidad puede ocurrir por múltiples causas, ya sea por no poseer los suficientes ingresos para afrontar el importe de las cuotas, tasas de intereses elevadas, monto total de la deuda excesivamente altos o por la simple falta de disposición para cumplir con los pagos.\n",
        "\n",
        "En este proyecto, con la base de datos que tenemos disponible de diferentes características de los préstamos dados, se tratará de buscar qué variables puede llevar al prestatario a tener dificultades con la puntualidad de sus pagos e intentar dar una predicción certera a cada uno de los prestamos de convertirse en moroso.\n",
        "\n",
        "Esta investigación puede ser una herramienta valiosa para ayudar a la banca a tomar decisiones sobre las posibles perdidas ocacionada por la falta de pagos de sus clientes y poder actuar ante ello.\n",
        "\n",
        "**<font color='lightblue'>Contexto comercial:</font>** Una banca que necesite realizar una previsión de incobrabilidad conociendo el estado de morosidad de sus clientes.\n",
        "  \n",
        "  \n",
        "\n",
        "**<font color='lightblue'>Objetivo:</font>** Encontrar una manera de predecir si los prestamos son deudores o no mediante modelos predictivos."
      ],
      "metadata": {
        "id": "iTb3GijEOqbt"
      }
    },
    {
      "cell_type": "markdown",
      "source": [
        "## 2. Preview y carga del DataSet <a name=\"id2\"></a>\n"
      ],
      "metadata": {
        "id": "-lT2RxtZ5Vd7"
      }
    },
    {
      "cell_type": "markdown",
      "source": [
        "El dataset fue obtenido a través de la página web de [*Kaggle*](https://www.kaggle.com/datasets/hemanthsai7/loandefault?select=train.csv), aparentemente fue creado para un Hackathon, estos son eventos para retar a programadores a sacar lo mejor de si, ofrecido por [*MachineHack*](https://machinehack.com/) que es una plataforma en línea para competencias expecializado en DataScience y Machine Learning.  \n",
        "\n",
        "El origen de los datos no está especificado, por lo que no se sabe si es un dataset de un banco real o datos artificiales creados para este modelo, pero de todas formas nos van a resultar utiles para el analisis. \n",
        " \n",
        "Lo interesante de estos datos es que nos proporciona una columna llamada \"*Loan Status*\", la cual nos indica si el identificador correspondiente se encuentra al día con sus pagos. Esta columna toma como valor \"0\" para aquellos que no presentan morosidad, y un valor \"1\" que los define como deudores. Con esto se puede tener una mejor comprensión de cuales son las variables que tienen en común los deudores para separarlo de no deudores.\n",
        "- **<font color='orange'>Archivo:</font>** loan.csv\n",
        "- **<font color='orange'>Columnas:</font>** 35\n",
        "- **<font color='orange'>Filas totales</font>** 67.463  "
      ],
      "metadata": {
        "id": "9tVF32Te5TIJ"
      }
    },
    {
      "cell_type": "markdown",
      "metadata": {
        "id": "CqNIH7uYHxgn"
      },
      "source": [
        "### 2.1 Carga de librerias y el Dataset\n",
        "Se van a cargar las principales librerías de ciencias de datos a usar, tanto de manejo de los datos (pandas), gráficos (matplotlib) como los que nos servirán para hacer predicciones (scikitlearn)."
      ]
    },
    {
      "cell_type": "code",
      "execution_count": 2,
      "metadata": {
        "id": "tRJ0V-F1Hxgw"
      },
      "outputs": [],
      "source": [
        "# librerias de manejo de datos\n",
        "import numpy as np\n",
        "import pandas as pd\n",
        "# Librerías Gráficas\n",
        "import matplotlib as mpl\n",
        "import matplotlib.pyplot as plt\n",
        "import seaborn as sns\n",
        "# Estadistica y predicción\n",
        "from   scipy import stats\n",
        "import statsmodels.formula.api as sm\n",
        "from sklearn.preprocessing import StandardScaler\n",
        "from sklearn.preprocessing import OneHotEncoder\n",
        "from sklearn.preprocessing import LabelEncoder\n",
        "from sklearn.linear_model import LogisticRegression\n",
        "import statsmodels.api as sm\n",
        "\n",
        "# URL de GITHUB\n",
        "url_loa='https://raw.githubusercontent.com/AlejandroSenabre/Data-Coder/main/loans.csv'\n",
        "# Cargamos los datos de la URL como un DataFrame de Pandas\n",
        "loan=pd.read_csv(url_loa)\n",
        "# Copia del DF para tener el original de respaldo.\n",
        "loan2=loan.copy()"
      ]
    },
    {
      "cell_type": "markdown",
      "source": [
        "### 2.2 Vista previa\n",
        "\n",
        "Se mostrarán la información que contiene cada una de las columnas. Podemos observar que tenemos 35 columnas y que hay 9 que poseen información no numerica.  \n",
        "Las principales columnas que observamos son:\n",
        "- **<font color='orange'>Loan Amount:</font>** Nos muestra el monton del prestamo.\n",
        "- **<font color='orange'>Term:</font>** La duración del prestamo. \n",
        "- **<font color='orange'>Grade & Sub Grade: </font>** Riesgo que tiene el prestatario para el banco. \"Grade\" va de A hasta G, donde el ultimo grado es el que el banco considera menos confiable.\n",
        "- **<font color='orange'>Interest Rate: </font>** Tasa de interes del prestamo.\n",
        "- **<font color='orange'>Loan Status:</font>** Es la base de este trabajo, nos proporciona la información sobre si el prestamo se encuentra en mora (1) o está al dia con los pagos (0)."
      ],
      "metadata": {
        "id": "KQFFeSCW9jeN"
      }
    },
    {
      "cell_type": "code",
      "source": [
        "print(loan.info())"
      ],
      "metadata": {
        "colab": {
          "base_uri": "https://localhost:8080/"
        },
        "id": "hPcapPDx9y28",
        "outputId": "ececd3e9-ed45-47d5-f98d-3a1bcdfb40c4"
      },
      "execution_count": 3,
      "outputs": [
        {
          "output_type": "stream",
          "name": "stdout",
          "text": [
            "<class 'pandas.core.frame.DataFrame'>\n",
            "RangeIndex: 67463 entries, 0 to 67462\n",
            "Data columns (total 35 columns):\n",
            " #   Column                        Non-Null Count  Dtype  \n",
            "---  ------                        --------------  -----  \n",
            " 0   ID                            67463 non-null  int64  \n",
            " 1   Loan Amount                   67463 non-null  int64  \n",
            " 2   Funded Amount                 67463 non-null  int64  \n",
            " 3   Funded Amount Investor        67463 non-null  float64\n",
            " 4   Term                          67463 non-null  int64  \n",
            " 5   Batch Enrolled                67463 non-null  object \n",
            " 6   Interest Rate                 67463 non-null  float64\n",
            " 7   Grade                         67463 non-null  object \n",
            " 8   Sub Grade                     67463 non-null  object \n",
            " 9   Employment Duration           67463 non-null  object \n",
            " 10  Home Ownership                67463 non-null  float64\n",
            " 11  Verification Status           67463 non-null  object \n",
            " 12  Payment Plan                  67463 non-null  object \n",
            " 13  Loan Title                    67463 non-null  object \n",
            " 14  Debit to Income               67463 non-null  float64\n",
            " 15  Delinquency - two years       67463 non-null  int64  \n",
            " 16  Inquires - six months         67463 non-null  int64  \n",
            " 17  Open Account                  67463 non-null  int64  \n",
            " 18  Public Record                 67463 non-null  int64  \n",
            " 19  Revolving Balance             67463 non-null  int64  \n",
            " 20  Revolving Utilities           67463 non-null  float64\n",
            " 21  Total Accounts                67463 non-null  int64  \n",
            " 22  Initial List Status           67463 non-null  object \n",
            " 23  Total Received Interest       67463 non-null  float64\n",
            " 24  Total Received Late Fee       67463 non-null  float64\n",
            " 25  Recoveries                    67463 non-null  float64\n",
            " 26  Collection Recovery Fee       67463 non-null  float64\n",
            " 27  Collection 12 months Medical  67463 non-null  int64  \n",
            " 28  Application Type              67463 non-null  object \n",
            " 29  Last week Pay                 67463 non-null  int64  \n",
            " 30  Accounts Delinquent           67463 non-null  int64  \n",
            " 31  Total Collection Amount       67463 non-null  int64  \n",
            " 32  Total Current Balance         67463 non-null  int64  \n",
            " 33  Total Revolving Credit Limit  67463 non-null  int64  \n",
            " 34  Loan Status                   67463 non-null  int64  \n",
            "dtypes: float64(9), int64(17), object(9)\n",
            "memory usage: 18.0+ MB\n",
            "None\n"
          ]
        }
      ]
    },
    {
      "cell_type": "code",
      "source": [
        "pd.options.display.max_columns = None\n",
        "loan.head()"
      ],
      "metadata": {
        "colab": {
          "base_uri": "https://localhost:8080/",
          "height": 0
        },
        "id": "68MXpjJM9lrP",
        "outputId": "eb90d35a-e405-49b4-e54b-0df4b4d19a09"
      },
      "execution_count": 4,
      "outputs": [
        {
          "output_type": "execute_result",
          "data": {
            "text/plain": [
              "         ID  Loan Amount  Funded Amount  Funded Amount Investor  Term  \\\n",
              "0  65087372        10000          32236             12329.36286    59   \n",
              "1   1450153         3609          11940             12191.99692    59   \n",
              "2   1969101        28276           9311             21603.22455    59   \n",
              "3   6651430        11170           6954             17877.15585    59   \n",
              "4  14354669        16890          13226             13539.92667    59   \n",
              "\n",
              "  Batch Enrolled  Interest Rate Grade Sub Grade Employment Duration  \\\n",
              "0     BAT2522922      11.135007     B        C4            MORTGAGE   \n",
              "1     BAT1586599      12.237563     C        D3                RENT   \n",
              "2     BAT2136391      12.545884     F        D4            MORTGAGE   \n",
              "3     BAT2428731      16.731201     C        C3            MORTGAGE   \n",
              "4     BAT5341619      15.008300     C        D4            MORTGAGE   \n",
              "\n",
              "   Home Ownership Verification Status Payment Plan               Loan Title  \\\n",
              "0    176346.62670        Not Verified            n       Debt Consolidation   \n",
              "1     39833.92100     Source Verified            n       Debt consolidation   \n",
              "2     91506.69105     Source Verified            n       Debt Consolidation   \n",
              "3    108286.57590     Source Verified            n       Debt consolidation   \n",
              "4     44234.82545     Source Verified            n  Credit card refinancing   \n",
              "\n",
              "   Debit to Income  Delinquency - two years  Inquires - six months  \\\n",
              "0        16.284758                        1                      0   \n",
              "1        15.412409                        0                      0   \n",
              "2        28.137619                        0                      0   \n",
              "3        18.043730                        1                      0   \n",
              "4        17.209886                        1                      3   \n",
              "\n",
              "   Open Account  Public Record  Revolving Balance  Revolving Utilities  \\\n",
              "0            13              0              24246            74.932551   \n",
              "1            12              0                812            78.297186   \n",
              "2            14              0               1843             2.073040   \n",
              "3             7              0              13819            67.467951   \n",
              "4            13              1               1544            85.250761   \n",
              "\n",
              "   Total Accounts Initial List Status  Total Received Interest  \\\n",
              "0               7                   w              2929.646315   \n",
              "1              13                   f               772.769385   \n",
              "2              20                   w               863.324396   \n",
              "3              12                   w               288.173196   \n",
              "4              22                   w               129.239553   \n",
              "\n",
              "   Total Received Late Fee   Recoveries  Collection Recovery Fee  \\\n",
              "0                 0.102055     2.498291                 0.793724   \n",
              "1                 0.036181     2.377215                 0.974821   \n",
              "2                18.778660     4.316277                 1.020075   \n",
              "3                 0.044131     0.107020                 0.749971   \n",
              "4                19.306646  1294.818751                 0.368953   \n",
              "\n",
              "   Collection 12 months Medical Application Type  Last week Pay  \\\n",
              "0                             0       INDIVIDUAL             49   \n",
              "1                             0       INDIVIDUAL            109   \n",
              "2                             0       INDIVIDUAL             66   \n",
              "3                             0       INDIVIDUAL             39   \n",
              "4                             0       INDIVIDUAL             18   \n",
              "\n",
              "   Accounts Delinquent  Total Collection Amount  Total Current Balance  \\\n",
              "0                    0                       31                 311301   \n",
              "1                    0                       53                 182610   \n",
              "2                    0                       34                  89801   \n",
              "3                    0                       40                   9189   \n",
              "4                    0                      430                 126029   \n",
              "\n",
              "   Total Revolving Credit Limit  Loan Status  \n",
              "0                          6619            0  \n",
              "1                         20885            0  \n",
              "2                         26155            0  \n",
              "3                         60214            0  \n",
              "4                         22579            0  "
            ],
            "text/html": [
              "\n",
              "  <div id=\"df-c2156d31-5cee-4d11-899f-ad1f96ed5222\">\n",
              "    <div class=\"colab-df-container\">\n",
              "      <div>\n",
              "<style scoped>\n",
              "    .dataframe tbody tr th:only-of-type {\n",
              "        vertical-align: middle;\n",
              "    }\n",
              "\n",
              "    .dataframe tbody tr th {\n",
              "        vertical-align: top;\n",
              "    }\n",
              "\n",
              "    .dataframe thead th {\n",
              "        text-align: right;\n",
              "    }\n",
              "</style>\n",
              "<table border=\"1\" class=\"dataframe\">\n",
              "  <thead>\n",
              "    <tr style=\"text-align: right;\">\n",
              "      <th></th>\n",
              "      <th>ID</th>\n",
              "      <th>Loan Amount</th>\n",
              "      <th>Funded Amount</th>\n",
              "      <th>Funded Amount Investor</th>\n",
              "      <th>Term</th>\n",
              "      <th>Batch Enrolled</th>\n",
              "      <th>Interest Rate</th>\n",
              "      <th>Grade</th>\n",
              "      <th>Sub Grade</th>\n",
              "      <th>Employment Duration</th>\n",
              "      <th>Home Ownership</th>\n",
              "      <th>Verification Status</th>\n",
              "      <th>Payment Plan</th>\n",
              "      <th>Loan Title</th>\n",
              "      <th>Debit to Income</th>\n",
              "      <th>Delinquency - two years</th>\n",
              "      <th>Inquires - six months</th>\n",
              "      <th>Open Account</th>\n",
              "      <th>Public Record</th>\n",
              "      <th>Revolving Balance</th>\n",
              "      <th>Revolving Utilities</th>\n",
              "      <th>Total Accounts</th>\n",
              "      <th>Initial List Status</th>\n",
              "      <th>Total Received Interest</th>\n",
              "      <th>Total Received Late Fee</th>\n",
              "      <th>Recoveries</th>\n",
              "      <th>Collection Recovery Fee</th>\n",
              "      <th>Collection 12 months Medical</th>\n",
              "      <th>Application Type</th>\n",
              "      <th>Last week Pay</th>\n",
              "      <th>Accounts Delinquent</th>\n",
              "      <th>Total Collection Amount</th>\n",
              "      <th>Total Current Balance</th>\n",
              "      <th>Total Revolving Credit Limit</th>\n",
              "      <th>Loan Status</th>\n",
              "    </tr>\n",
              "  </thead>\n",
              "  <tbody>\n",
              "    <tr>\n",
              "      <th>0</th>\n",
              "      <td>65087372</td>\n",
              "      <td>10000</td>\n",
              "      <td>32236</td>\n",
              "      <td>12329.36286</td>\n",
              "      <td>59</td>\n",
              "      <td>BAT2522922</td>\n",
              "      <td>11.135007</td>\n",
              "      <td>B</td>\n",
              "      <td>C4</td>\n",
              "      <td>MORTGAGE</td>\n",
              "      <td>176346.62670</td>\n",
              "      <td>Not Verified</td>\n",
              "      <td>n</td>\n",
              "      <td>Debt Consolidation</td>\n",
              "      <td>16.284758</td>\n",
              "      <td>1</td>\n",
              "      <td>0</td>\n",
              "      <td>13</td>\n",
              "      <td>0</td>\n",
              "      <td>24246</td>\n",
              "      <td>74.932551</td>\n",
              "      <td>7</td>\n",
              "      <td>w</td>\n",
              "      <td>2929.646315</td>\n",
              "      <td>0.102055</td>\n",
              "      <td>2.498291</td>\n",
              "      <td>0.793724</td>\n",
              "      <td>0</td>\n",
              "      <td>INDIVIDUAL</td>\n",
              "      <td>49</td>\n",
              "      <td>0</td>\n",
              "      <td>31</td>\n",
              "      <td>311301</td>\n",
              "      <td>6619</td>\n",
              "      <td>0</td>\n",
              "    </tr>\n",
              "    <tr>\n",
              "      <th>1</th>\n",
              "      <td>1450153</td>\n",
              "      <td>3609</td>\n",
              "      <td>11940</td>\n",
              "      <td>12191.99692</td>\n",
              "      <td>59</td>\n",
              "      <td>BAT1586599</td>\n",
              "      <td>12.237563</td>\n",
              "      <td>C</td>\n",
              "      <td>D3</td>\n",
              "      <td>RENT</td>\n",
              "      <td>39833.92100</td>\n",
              "      <td>Source Verified</td>\n",
              "      <td>n</td>\n",
              "      <td>Debt consolidation</td>\n",
              "      <td>15.412409</td>\n",
              "      <td>0</td>\n",
              "      <td>0</td>\n",
              "      <td>12</td>\n",
              "      <td>0</td>\n",
              "      <td>812</td>\n",
              "      <td>78.297186</td>\n",
              "      <td>13</td>\n",
              "      <td>f</td>\n",
              "      <td>772.769385</td>\n",
              "      <td>0.036181</td>\n",
              "      <td>2.377215</td>\n",
              "      <td>0.974821</td>\n",
              "      <td>0</td>\n",
              "      <td>INDIVIDUAL</td>\n",
              "      <td>109</td>\n",
              "      <td>0</td>\n",
              "      <td>53</td>\n",
              "      <td>182610</td>\n",
              "      <td>20885</td>\n",
              "      <td>0</td>\n",
              "    </tr>\n",
              "    <tr>\n",
              "      <th>2</th>\n",
              "      <td>1969101</td>\n",
              "      <td>28276</td>\n",
              "      <td>9311</td>\n",
              "      <td>21603.22455</td>\n",
              "      <td>59</td>\n",
              "      <td>BAT2136391</td>\n",
              "      <td>12.545884</td>\n",
              "      <td>F</td>\n",
              "      <td>D4</td>\n",
              "      <td>MORTGAGE</td>\n",
              "      <td>91506.69105</td>\n",
              "      <td>Source Verified</td>\n",
              "      <td>n</td>\n",
              "      <td>Debt Consolidation</td>\n",
              "      <td>28.137619</td>\n",
              "      <td>0</td>\n",
              "      <td>0</td>\n",
              "      <td>14</td>\n",
              "      <td>0</td>\n",
              "      <td>1843</td>\n",
              "      <td>2.073040</td>\n",
              "      <td>20</td>\n",
              "      <td>w</td>\n",
              "      <td>863.324396</td>\n",
              "      <td>18.778660</td>\n",
              "      <td>4.316277</td>\n",
              "      <td>1.020075</td>\n",
              "      <td>0</td>\n",
              "      <td>INDIVIDUAL</td>\n",
              "      <td>66</td>\n",
              "      <td>0</td>\n",
              "      <td>34</td>\n",
              "      <td>89801</td>\n",
              "      <td>26155</td>\n",
              "      <td>0</td>\n",
              "    </tr>\n",
              "    <tr>\n",
              "      <th>3</th>\n",
              "      <td>6651430</td>\n",
              "      <td>11170</td>\n",
              "      <td>6954</td>\n",
              "      <td>17877.15585</td>\n",
              "      <td>59</td>\n",
              "      <td>BAT2428731</td>\n",
              "      <td>16.731201</td>\n",
              "      <td>C</td>\n",
              "      <td>C3</td>\n",
              "      <td>MORTGAGE</td>\n",
              "      <td>108286.57590</td>\n",
              "      <td>Source Verified</td>\n",
              "      <td>n</td>\n",
              "      <td>Debt consolidation</td>\n",
              "      <td>18.043730</td>\n",
              "      <td>1</td>\n",
              "      <td>0</td>\n",
              "      <td>7</td>\n",
              "      <td>0</td>\n",
              "      <td>13819</td>\n",
              "      <td>67.467951</td>\n",
              "      <td>12</td>\n",
              "      <td>w</td>\n",
              "      <td>288.173196</td>\n",
              "      <td>0.044131</td>\n",
              "      <td>0.107020</td>\n",
              "      <td>0.749971</td>\n",
              "      <td>0</td>\n",
              "      <td>INDIVIDUAL</td>\n",
              "      <td>39</td>\n",
              "      <td>0</td>\n",
              "      <td>40</td>\n",
              "      <td>9189</td>\n",
              "      <td>60214</td>\n",
              "      <td>0</td>\n",
              "    </tr>\n",
              "    <tr>\n",
              "      <th>4</th>\n",
              "      <td>14354669</td>\n",
              "      <td>16890</td>\n",
              "      <td>13226</td>\n",
              "      <td>13539.92667</td>\n",
              "      <td>59</td>\n",
              "      <td>BAT5341619</td>\n",
              "      <td>15.008300</td>\n",
              "      <td>C</td>\n",
              "      <td>D4</td>\n",
              "      <td>MORTGAGE</td>\n",
              "      <td>44234.82545</td>\n",
              "      <td>Source Verified</td>\n",
              "      <td>n</td>\n",
              "      <td>Credit card refinancing</td>\n",
              "      <td>17.209886</td>\n",
              "      <td>1</td>\n",
              "      <td>3</td>\n",
              "      <td>13</td>\n",
              "      <td>1</td>\n",
              "      <td>1544</td>\n",
              "      <td>85.250761</td>\n",
              "      <td>22</td>\n",
              "      <td>w</td>\n",
              "      <td>129.239553</td>\n",
              "      <td>19.306646</td>\n",
              "      <td>1294.818751</td>\n",
              "      <td>0.368953</td>\n",
              "      <td>0</td>\n",
              "      <td>INDIVIDUAL</td>\n",
              "      <td>18</td>\n",
              "      <td>0</td>\n",
              "      <td>430</td>\n",
              "      <td>126029</td>\n",
              "      <td>22579</td>\n",
              "      <td>0</td>\n",
              "    </tr>\n",
              "  </tbody>\n",
              "</table>\n",
              "</div>\n",
              "      <button class=\"colab-df-convert\" onclick=\"convertToInteractive('df-c2156d31-5cee-4d11-899f-ad1f96ed5222')\"\n",
              "              title=\"Convert this dataframe to an interactive table.\"\n",
              "              style=\"display:none;\">\n",
              "        \n",
              "  <svg xmlns=\"http://www.w3.org/2000/svg\" height=\"24px\"viewBox=\"0 0 24 24\"\n",
              "       width=\"24px\">\n",
              "    <path d=\"M0 0h24v24H0V0z\" fill=\"none\"/>\n",
              "    <path d=\"M18.56 5.44l.94 2.06.94-2.06 2.06-.94-2.06-.94-.94-2.06-.94 2.06-2.06.94zm-11 1L8.5 8.5l.94-2.06 2.06-.94-2.06-.94L8.5 2.5l-.94 2.06-2.06.94zm10 10l.94 2.06.94-2.06 2.06-.94-2.06-.94-.94-2.06-.94 2.06-2.06.94z\"/><path d=\"M17.41 7.96l-1.37-1.37c-.4-.4-.92-.59-1.43-.59-.52 0-1.04.2-1.43.59L10.3 9.45l-7.72 7.72c-.78.78-.78 2.05 0 2.83L4 21.41c.39.39.9.59 1.41.59.51 0 1.02-.2 1.41-.59l7.78-7.78 2.81-2.81c.8-.78.8-2.07 0-2.86zM5.41 20L4 18.59l7.72-7.72 1.47 1.35L5.41 20z\"/>\n",
              "  </svg>\n",
              "      </button>\n",
              "      \n",
              "  <style>\n",
              "    .colab-df-container {\n",
              "      display:flex;\n",
              "      flex-wrap:wrap;\n",
              "      gap: 12px;\n",
              "    }\n",
              "\n",
              "    .colab-df-convert {\n",
              "      background-color: #E8F0FE;\n",
              "      border: none;\n",
              "      border-radius: 50%;\n",
              "      cursor: pointer;\n",
              "      display: none;\n",
              "      fill: #1967D2;\n",
              "      height: 32px;\n",
              "      padding: 0 0 0 0;\n",
              "      width: 32px;\n",
              "    }\n",
              "\n",
              "    .colab-df-convert:hover {\n",
              "      background-color: #E2EBFA;\n",
              "      box-shadow: 0px 1px 2px rgba(60, 64, 67, 0.3), 0px 1px 3px 1px rgba(60, 64, 67, 0.15);\n",
              "      fill: #174EA6;\n",
              "    }\n",
              "\n",
              "    [theme=dark] .colab-df-convert {\n",
              "      background-color: #3B4455;\n",
              "      fill: #D2E3FC;\n",
              "    }\n",
              "\n",
              "    [theme=dark] .colab-df-convert:hover {\n",
              "      background-color: #434B5C;\n",
              "      box-shadow: 0px 1px 3px 1px rgba(0, 0, 0, 0.15);\n",
              "      filter: drop-shadow(0px 1px 2px rgba(0, 0, 0, 0.3));\n",
              "      fill: #FFFFFF;\n",
              "    }\n",
              "  </style>\n",
              "\n",
              "      <script>\n",
              "        const buttonEl =\n",
              "          document.querySelector('#df-c2156d31-5cee-4d11-899f-ad1f96ed5222 button.colab-df-convert');\n",
              "        buttonEl.style.display =\n",
              "          google.colab.kernel.accessAllowed ? 'block' : 'none';\n",
              "\n",
              "        async function convertToInteractive(key) {\n",
              "          const element = document.querySelector('#df-c2156d31-5cee-4d11-899f-ad1f96ed5222');\n",
              "          const dataTable =\n",
              "            await google.colab.kernel.invokeFunction('convertToInteractive',\n",
              "                                                     [key], {});\n",
              "          if (!dataTable) return;\n",
              "\n",
              "          const docLinkHtml = 'Like what you see? Visit the ' +\n",
              "            '<a target=\"_blank\" href=https://colab.research.google.com/notebooks/data_table.ipynb>data table notebook</a>'\n",
              "            + ' to learn more about interactive tables.';\n",
              "          element.innerHTML = '';\n",
              "          dataTable['output_type'] = 'display_data';\n",
              "          await google.colab.output.renderOutput(dataTable, element);\n",
              "          const docLink = document.createElement('div');\n",
              "          docLink.innerHTML = docLinkHtml;\n",
              "          element.appendChild(docLink);\n",
              "        }\n",
              "      </script>\n",
              "    </div>\n",
              "  </div>\n",
              "  "
            ]
          },
          "metadata": {},
          "execution_count": 4
        }
      ]
    },
    {
      "cell_type": "markdown",
      "source": [
        "## 3. Lectura y transformación del DataFrame <a name=\"id3\"></a>\n"
      ],
      "metadata": {
        "id": "xoy42DH_67zI"
      }
    },
    {
      "cell_type": "markdown",
      "source": [
        "#### Vista previa de la columna \"Loan Status\"\n",
        "Primero se apreciará los datos de la variable a predecir, información util para saber como prodecer en la realización del modelo predictivo."
      ],
      "metadata": {
        "id": "jMD8z4r8J9cm"
      }
    },
    {
      "cell_type": "code",
      "source": [
        "table = loan2['Loan Status'].value_counts().reset_index()\n",
        "table.columns = ['Estado', 'Cantidad']\n",
        "table['Estado'] = table['Estado'].map({1 :'Deudores', 0 :'No deudores'})\n",
        "table"
      ],
      "metadata": {
        "colab": {
          "base_uri": "https://localhost:8080/",
          "height": 112
        },
        "id": "URw6i1a1C5fS",
        "outputId": "b1c14c8d-15c5-4525-fcb2-a4dd3ba666ce"
      },
      "execution_count": 5,
      "outputs": [
        {
          "output_type": "execute_result",
          "data": {
            "text/plain": [
              "        Estado  Cantidad\n",
              "0  No deudores     61222\n",
              "1     Deudores      6241"
            ],
            "text/html": [
              "\n",
              "  <div id=\"df-7730ecd4-313a-460e-b33e-3d2379a217b9\">\n",
              "    <div class=\"colab-df-container\">\n",
              "      <div>\n",
              "<style scoped>\n",
              "    .dataframe tbody tr th:only-of-type {\n",
              "        vertical-align: middle;\n",
              "    }\n",
              "\n",
              "    .dataframe tbody tr th {\n",
              "        vertical-align: top;\n",
              "    }\n",
              "\n",
              "    .dataframe thead th {\n",
              "        text-align: right;\n",
              "    }\n",
              "</style>\n",
              "<table border=\"1\" class=\"dataframe\">\n",
              "  <thead>\n",
              "    <tr style=\"text-align: right;\">\n",
              "      <th></th>\n",
              "      <th>Estado</th>\n",
              "      <th>Cantidad</th>\n",
              "    </tr>\n",
              "  </thead>\n",
              "  <tbody>\n",
              "    <tr>\n",
              "      <th>0</th>\n",
              "      <td>No deudores</td>\n",
              "      <td>61222</td>\n",
              "    </tr>\n",
              "    <tr>\n",
              "      <th>1</th>\n",
              "      <td>Deudores</td>\n",
              "      <td>6241</td>\n",
              "    </tr>\n",
              "  </tbody>\n",
              "</table>\n",
              "</div>\n",
              "      <button class=\"colab-df-convert\" onclick=\"convertToInteractive('df-7730ecd4-313a-460e-b33e-3d2379a217b9')\"\n",
              "              title=\"Convert this dataframe to an interactive table.\"\n",
              "              style=\"display:none;\">\n",
              "        \n",
              "  <svg xmlns=\"http://www.w3.org/2000/svg\" height=\"24px\"viewBox=\"0 0 24 24\"\n",
              "       width=\"24px\">\n",
              "    <path d=\"M0 0h24v24H0V0z\" fill=\"none\"/>\n",
              "    <path d=\"M18.56 5.44l.94 2.06.94-2.06 2.06-.94-2.06-.94-.94-2.06-.94 2.06-2.06.94zm-11 1L8.5 8.5l.94-2.06 2.06-.94-2.06-.94L8.5 2.5l-.94 2.06-2.06.94zm10 10l.94 2.06.94-2.06 2.06-.94-2.06-.94-.94-2.06-.94 2.06-2.06.94z\"/><path d=\"M17.41 7.96l-1.37-1.37c-.4-.4-.92-.59-1.43-.59-.52 0-1.04.2-1.43.59L10.3 9.45l-7.72 7.72c-.78.78-.78 2.05 0 2.83L4 21.41c.39.39.9.59 1.41.59.51 0 1.02-.2 1.41-.59l7.78-7.78 2.81-2.81c.8-.78.8-2.07 0-2.86zM5.41 20L4 18.59l7.72-7.72 1.47 1.35L5.41 20z\"/>\n",
              "  </svg>\n",
              "      </button>\n",
              "      \n",
              "  <style>\n",
              "    .colab-df-container {\n",
              "      display:flex;\n",
              "      flex-wrap:wrap;\n",
              "      gap: 12px;\n",
              "    }\n",
              "\n",
              "    .colab-df-convert {\n",
              "      background-color: #E8F0FE;\n",
              "      border: none;\n",
              "      border-radius: 50%;\n",
              "      cursor: pointer;\n",
              "      display: none;\n",
              "      fill: #1967D2;\n",
              "      height: 32px;\n",
              "      padding: 0 0 0 0;\n",
              "      width: 32px;\n",
              "    }\n",
              "\n",
              "    .colab-df-convert:hover {\n",
              "      background-color: #E2EBFA;\n",
              "      box-shadow: 0px 1px 2px rgba(60, 64, 67, 0.3), 0px 1px 3px 1px rgba(60, 64, 67, 0.15);\n",
              "      fill: #174EA6;\n",
              "    }\n",
              "\n",
              "    [theme=dark] .colab-df-convert {\n",
              "      background-color: #3B4455;\n",
              "      fill: #D2E3FC;\n",
              "    }\n",
              "\n",
              "    [theme=dark] .colab-df-convert:hover {\n",
              "      background-color: #434B5C;\n",
              "      box-shadow: 0px 1px 3px 1px rgba(0, 0, 0, 0.15);\n",
              "      filter: drop-shadow(0px 1px 2px rgba(0, 0, 0, 0.3));\n",
              "      fill: #FFFFFF;\n",
              "    }\n",
              "  </style>\n",
              "\n",
              "      <script>\n",
              "        const buttonEl =\n",
              "          document.querySelector('#df-7730ecd4-313a-460e-b33e-3d2379a217b9 button.colab-df-convert');\n",
              "        buttonEl.style.display =\n",
              "          google.colab.kernel.accessAllowed ? 'block' : 'none';\n",
              "\n",
              "        async function convertToInteractive(key) {\n",
              "          const element = document.querySelector('#df-7730ecd4-313a-460e-b33e-3d2379a217b9');\n",
              "          const dataTable =\n",
              "            await google.colab.kernel.invokeFunction('convertToInteractive',\n",
              "                                                     [key], {});\n",
              "          if (!dataTable) return;\n",
              "\n",
              "          const docLinkHtml = 'Like what you see? Visit the ' +\n",
              "            '<a target=\"_blank\" href=https://colab.research.google.com/notebooks/data_table.ipynb>data table notebook</a>'\n",
              "            + ' to learn more about interactive tables.';\n",
              "          element.innerHTML = '';\n",
              "          dataTable['output_type'] = 'display_data';\n",
              "          await google.colab.output.renderOutput(dataTable, element);\n",
              "          const docLink = document.createElement('div');\n",
              "          docLink.innerHTML = docLinkHtml;\n",
              "          element.appendChild(docLink);\n",
              "        }\n",
              "      </script>\n",
              "    </div>\n",
              "  </div>\n",
              "  "
            ]
          },
          "metadata": {},
          "execution_count": 5
        }
      ]
    },
    {
      "cell_type": "code",
      "source": [
        "fig , ax = plt.subplots(figsize =(5, 5))\n",
        "ax.pie( table[\"Cantidad\"],\n",
        "       labels= table[\"Estado\"],  \n",
        "       explode=(0,0.1),      #Separa una porcion de la torta\n",
        "       shadow=False,    #Para poner sombras. Al estar en \"false\" es innecesario.\n",
        "       startangle=20,   #Rota el grafico\n",
        "       autopct='%1.2f%%',\n",
        "       colors=['#FFA500', 'gray'])   \n",
        "ax.axis('equal')\n",
        "plt.title(\"Porcentaje de deudores\")\n",
        "plt.show()"
      ],
      "metadata": {
        "colab": {
          "base_uri": "https://localhost:8080/",
          "height": 319
        },
        "id": "EVaOCX7YDXOO",
        "outputId": "bfec9a63-d203-48ee-ba2b-b4018c11570e"
      },
      "execution_count": 6,
      "outputs": [
        {
          "output_type": "display_data",
          "data": {
            "text/plain": [
              "<Figure size 360x360 with 1 Axes>"
            ],
            "image/png": "[encoded data removed]"
          },
          "metadata": {}
        }
      ]
    },
    {
      "cell_type": "markdown",
      "source": [
        "Tenemos tan solo un 9,25%, algo que puede dificultar la predicción que se verá mas adelante."
      ],
      "metadata": {
        "id": "XyFTPxfJdKH5"
      }
    },
    {
      "cell_type": "markdown",
      "source": [
        "### 3.1 Variables numericas <a name=\"id31\"></a>\n",
        "\n",
        "Las variables númericas son las mas sencillas para transformar"
      ],
      "metadata": {
        "id": "P2BTsMuc-ce_"
      }
    },
    {
      "cell_type": "code",
      "source": [
        "loan.hist(bins=50,figsize=(20,15), color=\"orange\")\n",
        "plt.show()"
      ],
      "metadata": {
        "colab": {
          "base_uri": "https://localhost:8080/",
          "height": 879
        },
        "id": "cXQO3r-v6-o3",
        "outputId": "423abe8d-d2a9-47e7-9a76-eb9cc8cca56a"
      },
      "execution_count": 7,
      "outputs": [
        {
          "output_type": "display_data",
          "data": {
            "text/plain": [
              "<Figure size 1440x1080 with 30 Axes>"
            ],
            "image/png": "[encoded data removed]"
          },
          "metadata": {
            "needs_background": "light"
          }
        }
      ]
    },
    {
      "cell_type": "markdown",
      "source": [
        "Se verán a detalle las columnas que hay sospecha de que sean valores unicos  y repetidos."
      ],
      "metadata": {
        "id": "4UcvDzbdJrUT"
      }
    },
    {
      "cell_type": "code",
      "source": [
        "loan[[\"Accounts Delinquent\",\"Collection 12 months Medical\" ,\n",
        "      \"Collection Recovery Fee\",\"Total Received Late Fee\",\n",
        "      \"Loan Status\"]].describe()"
      ],
      "metadata": {
        "colab": {
          "base_uri": "https://localhost:8080/",
          "height": 300
        },
        "id": "i0Iu09vG-lkq",
        "outputId": "fbb766fb-2aa4-4521-f07e-2b722e8ae75f"
      },
      "execution_count": 8,
      "outputs": [
        {
          "output_type": "execute_result",
          "data": {
            "text/plain": [
              "       Accounts Delinquent  Collection 12 months Medical  \\\n",
              "count              67463.0                  67463.000000   \n",
              "mean                   0.0                      0.021301   \n",
              "std                    0.0                      0.144385   \n",
              "min                    0.0                      0.000000   \n",
              "25%                    0.0                      0.000000   \n",
              "50%                    0.0                      0.000000   \n",
              "75%                    0.0                      0.000000   \n",
              "max                    0.0                      1.000000   \n",
              "\n",
              "       Collection Recovery Fee  Total Received Late Fee   Loan Status  \n",
              "count             67463.000000             67463.000000  67463.000000  \n",
              "mean                  1.125141                 1.143969      0.092510  \n",
              "std                   3.489885                 5.244365      0.289747  \n",
              "min                   0.000036                 0.000003      0.000000  \n",
              "25%                   0.476259                 0.021114      0.000000  \n",
              "50%                   0.780141                 0.043398      0.000000  \n",
              "75%                   1.070566                 0.071884      0.000000  \n",
              "max                 166.833000                42.618882      1.000000  "
            ],
            "text/html": [
              "\n",
              "  <div id=\"df-34b9ab76-84e6-4963-a3b1-b9eade494f41\">\n",
              "    <div class=\"colab-df-container\">\n",
              "      <div>\n",
              "<style scoped>\n",
              "    .dataframe tbody tr th:only-of-type {\n",
              "        vertical-align: middle;\n",
              "    }\n",
              "\n",
              "    .dataframe tbody tr th {\n",
              "        vertical-align: top;\n",
              "    }\n",
              "\n",
              "    .dataframe thead th {\n",
              "        text-align: right;\n",
              "    }\n",
              "</style>\n",
              "<table border=\"1\" class=\"dataframe\">\n",
              "  <thead>\n",
              "    <tr style=\"text-align: right;\">\n",
              "      <th></th>\n",
              "      <th>Accounts Delinquent</th>\n",
              "      <th>Collection 12 months Medical</th>\n",
              "      <th>Collection Recovery Fee</th>\n",
              "      <th>Total Received Late Fee</th>\n",
              "      <th>Loan Status</th>\n",
              "    </tr>\n",
              "  </thead>\n",
              "  <tbody>\n",
              "    <tr>\n",
              "      <th>count</th>\n",
              "      <td>67463.0</td>\n",
              "      <td>67463.000000</td>\n",
              "      <td>67463.000000</td>\n",
              "      <td>67463.000000</td>\n",
              "      <td>67463.000000</td>\n",
              "    </tr>\n",
              "    <tr>\n",
              "      <th>mean</th>\n",
              "      <td>0.0</td>\n",
              "      <td>0.021301</td>\n",
              "      <td>1.125141</td>\n",
              "      <td>1.143969</td>\n",
              "      <td>0.092510</td>\n",
              "    </tr>\n",
              "    <tr>\n",
              "      <th>std</th>\n",
              "      <td>0.0</td>\n",
              "      <td>0.144385</td>\n",
              "      <td>3.489885</td>\n",
              "      <td>5.244365</td>\n",
              "      <td>0.289747</td>\n",
              "    </tr>\n",
              "    <tr>\n",
              "      <th>min</th>\n",
              "      <td>0.0</td>\n",
              "      <td>0.000000</td>\n",
              "      <td>0.000036</td>\n",
              "      <td>0.000003</td>\n",
              "      <td>0.000000</td>\n",
              "    </tr>\n",
              "    <tr>\n",
              "      <th>25%</th>\n",
              "      <td>0.0</td>\n",
              "      <td>0.000000</td>\n",
              "      <td>0.476259</td>\n",
              "      <td>0.021114</td>\n",
              "      <td>0.000000</td>\n",
              "    </tr>\n",
              "    <tr>\n",
              "      <th>50%</th>\n",
              "      <td>0.0</td>\n",
              "      <td>0.000000</td>\n",
              "      <td>0.780141</td>\n",
              "      <td>0.043398</td>\n",
              "      <td>0.000000</td>\n",
              "    </tr>\n",
              "    <tr>\n",
              "      <th>75%</th>\n",
              "      <td>0.0</td>\n",
              "      <td>0.000000</td>\n",
              "      <td>1.070566</td>\n",
              "      <td>0.071884</td>\n",
              "      <td>0.000000</td>\n",
              "    </tr>\n",
              "    <tr>\n",
              "      <th>max</th>\n",
              "      <td>0.0</td>\n",
              "      <td>1.000000</td>\n",
              "      <td>166.833000</td>\n",
              "      <td>42.618882</td>\n",
              "      <td>1.000000</td>\n",
              "    </tr>\n",
              "  </tbody>\n",
              "</table>\n",
              "</div>\n",
              "      <button class=\"colab-df-convert\" onclick=\"convertToInteractive('df-34b9ab76-84e6-4963-a3b1-b9eade494f41')\"\n",
              "              title=\"Convert this dataframe to an interactive table.\"\n",
              "              style=\"display:none;\">\n",
              "        \n",
              "  <svg xmlns=\"http://www.w3.org/2000/svg\" height=\"24px\"viewBox=\"0 0 24 24\"\n",
              "       width=\"24px\">\n",
              "    <path d=\"M0 0h24v24H0V0z\" fill=\"none\"/>\n",
              "    <path d=\"M18.56 5.44l.94 2.06.94-2.06 2.06-.94-2.06-.94-.94-2.06-.94 2.06-2.06.94zm-11 1L8.5 8.5l.94-2.06 2.06-.94-2.06-.94L8.5 2.5l-.94 2.06-2.06.94zm10 10l.94 2.06.94-2.06 2.06-.94-2.06-.94-.94-2.06-.94 2.06-2.06.94z\"/><path d=\"M17.41 7.96l-1.37-1.37c-.4-.4-.92-.59-1.43-.59-.52 0-1.04.2-1.43.59L10.3 9.45l-7.72 7.72c-.78.78-.78 2.05 0 2.83L4 21.41c.39.39.9.59 1.41.59.51 0 1.02-.2 1.41-.59l7.78-7.78 2.81-2.81c.8-.78.8-2.07 0-2.86zM5.41 20L4 18.59l7.72-7.72 1.47 1.35L5.41 20z\"/>\n",
              "  </svg>\n",
              "      </button>\n",
              "      \n",
              "  <style>\n",
              "    .colab-df-container {\n",
              "      display:flex;\n",
              "      flex-wrap:wrap;\n",
              "      gap: 12px;\n",
              "    }\n",
              "\n",
              "    .colab-df-convert {\n",
              "      background-color: #E8F0FE;\n",
              "      border: none;\n",
              "      border-radius: 50%;\n",
              "      cursor: pointer;\n",
              "      display: none;\n",
              "      fill: #1967D2;\n",
              "      height: 32px;\n",
              "      padding: 0 0 0 0;\n",
              "      width: 32px;\n",
              "    }\n",
              "\n",
              "    .colab-df-convert:hover {\n",
              "      background-color: #E2EBFA;\n",
              "      box-shadow: 0px 1px 2px rgba(60, 64, 67, 0.3), 0px 1px 3px 1px rgba(60, 64, 67, 0.15);\n",
              "      fill: #174EA6;\n",
              "    }\n",
              "\n",
              "    [theme=dark] .colab-df-convert {\n",
              "      background-color: #3B4455;\n",
              "      fill: #D2E3FC;\n",
              "    }\n",
              "\n",
              "    [theme=dark] .colab-df-convert:hover {\n",
              "      background-color: #434B5C;\n",
              "      box-shadow: 0px 1px 3px 1px rgba(0, 0, 0, 0.15);\n",
              "      filter: drop-shadow(0px 1px 2px rgba(0, 0, 0, 0.3));\n",
              "      fill: #FFFFFF;\n",
              "    }\n",
              "  </style>\n",
              "\n",
              "      <script>\n",
              "        const buttonEl =\n",
              "          document.querySelector('#df-34b9ab76-84e6-4963-a3b1-b9eade494f41 button.colab-df-convert');\n",
              "        buttonEl.style.display =\n",
              "          google.colab.kernel.accessAllowed ? 'block' : 'none';\n",
              "\n",
              "        async function convertToInteractive(key) {\n",
              "          const element = document.querySelector('#df-34b9ab76-84e6-4963-a3b1-b9eade494f41');\n",
              "          const dataTable =\n",
              "            await google.colab.kernel.invokeFunction('convertToInteractive',\n",
              "                                                     [key], {});\n",
              "          if (!dataTable) return;\n",
              "\n",
              "          const docLinkHtml = 'Like what you see? Visit the ' +\n",
              "            '<a target=\"_blank\" href=https://colab.research.google.com/notebooks/data_table.ipynb>data table notebook</a>'\n",
              "            + ' to learn more about interactive tables.';\n",
              "          element.innerHTML = '';\n",
              "          dataTable['output_type'] = 'display_data';\n",
              "          await google.colab.output.renderOutput(dataTable, element);\n",
              "          const docLink = document.createElement('div');\n",
              "          docLink.innerHTML = docLinkHtml;\n",
              "          element.appendChild(docLink);\n",
              "        }\n",
              "      </script>\n",
              "    </div>\n",
              "  </div>\n",
              "  "
            ]
          },
          "metadata": {},
          "execution_count": 8
        }
      ]
    },
    {
      "cell_type": "markdown",
      "source": [
        "#### Eliminación de columnas\n",
        "\n",
        "Viendo los anteriores datos, vamos a eliminar las siguientes columnas:\n",
        "- **<font color='orange'>Accounts Delinquent:</font>** Todos sus valores son 0.\n",
        "- **<font color='orange'>ID:</font>** No nos servirá para el analisis."
      ],
      "metadata": {
        "id": "kmFjgw7FGdTQ"
      }
    },
    {
      "cell_type": "code",
      "source": [
        "loan2.drop(columns = ['Accounts Delinquent', \"ID\"], inplace = True)"
      ],
      "metadata": {
        "id": "oeCAZnpqGSv7"
      },
      "execution_count": 9,
      "outputs": []
    },
    {
      "cell_type": "markdown",
      "source": [
        "### 3.2 Variables Categoricas <a name=\"id32\"></a>\n",
        "\n",
        "Tenemos las siguientes columnas con datos categoricos:\n",
        "- **<font color='orange'>Batch Enrolled:</font>** Hace referencia al codigo de lote del prestamo.\n",
        "- **<font color='orange'>Grade & Sub Grade:</font>** Riesgo que tiene el prestatario para el banco. \"Grade\" va de A hasta G, donde el ultimo grado es el que el banco considera menos confiable.\n",
        "- **<font color='orange'>Loan Title:</font>** Motivo del prestamo.\n",
        "- **<font color='orange'>Employment Duration</font>** , **<font color='orange'>Verification Status</font>** , **<font color='orange'>Payment Plan</font>** , **<font color='orange'>Application Type</font>** y  **<font color='orange'>Initial List Status</font>**\n",
        "\n",
        "En los siguientes incisos se intentará analizarlos y buscar la manera de convertirlos en variables numericas para poder manejarlos y aplicar algún metodo predictivo."
      ],
      "metadata": {
        "id": "1NQCDVUgJDY6"
      }
    },
    {
      "cell_type": "markdown",
      "source": [
        "#### Valores unicos\n",
        "\n",
        "Vamos a analizar la composición de las variables categoricas y ver los valores unicos de cada una."
      ],
      "metadata": {
        "id": "7nv5FJzANKwV"
      }
    },
    {
      "cell_type": "code",
      "source": [
        "categoricos = loan2.select_dtypes(include='object').columns\n",
        "len(categoricos)"
      ],
      "metadata": {
        "colab": {
          "base_uri": "https://localhost:8080/"
        },
        "id": "8bQ4TJ8TbjD9",
        "outputId": "f9cc0fa7-2f42-4a53-fe5e-b19073292733"
      },
      "execution_count": 10,
      "outputs": [
        {
          "output_type": "execute_result",
          "data": {
            "text/plain": [
              "9"
            ]
          },
          "metadata": {},
          "execution_count": 10
        }
      ]
    },
    {
      "cell_type": "code",
      "source": [
        "for i in categoricos:\n",
        "    print(\"Valores unicos en la columna...\",i,\"... son: \",loan2.loc[:,i].nunique(),\"\\n\")"
      ],
      "metadata": {
        "colab": {
          "base_uri": "https://localhost:8080/"
        },
        "id": "X88CKBnqbogU",
        "outputId": "c6cb1c87-2294-4387-f86b-231e380b3647"
      },
      "execution_count": 11,
      "outputs": [
        {
          "output_type": "stream",
          "name": "stdout",
          "text": [
            "Valores unicos en la columna... Batch Enrolled ... son:  41 \n",
            "\n",
            "Valores unicos en la columna... Grade ... son:  7 \n",
            "\n",
            "Valores unicos en la columna... Sub Grade ... son:  35 \n",
            "\n",
            "Valores unicos en la columna... Employment Duration ... son:  3 \n",
            "\n",
            "Valores unicos en la columna... Verification Status ... son:  3 \n",
            "\n",
            "Valores unicos en la columna... Payment Plan ... son:  1 \n",
            "\n",
            "Valores unicos en la columna... Loan Title ... son:  109 \n",
            "\n",
            "Valores unicos en la columna... Initial List Status ... son:  2 \n",
            "\n",
            "Valores unicos en la columna... Application Type ... son:  2 \n",
            "\n"
          ]
        }
      ]
    },
    {
      "cell_type": "markdown",
      "source": [
        "#### Gráficos\n",
        "\n",
        "Estos gráficos nos serán util para vez la distribución de cada una de las columnas categoricas."
      ],
      "metadata": {
        "id": "R1KLO01vOT09"
      }
    },
    {
      "cell_type": "code",
      "source": [
        "Columnas_categoricas = ['Employment Duration', 'Verification Status', 'Initial List Status', 'Application Type']\n",
        "fig, axs = plt.subplots(nrows=1, ncols=len(Columnas_categoricas), figsize=(15, 5))\n",
        "\n",
        "for i, col in enumerate(Columnas_categoricas):\n",
        "    loan2[col].value_counts().plot(kind='bar', ax=axs[i],color=\"orange\")\n",
        "    axs[i].set_title(col)\n",
        "\n",
        "plt.tight_layout()\n",
        "plt.show()"
      ],
      "metadata": {
        "colab": {
          "base_uri": "https://localhost:8080/",
          "height": 369
        },
        "id": "TpiRxE69N3X7",
        "outputId": "b65bc5ed-c9e9-4807-b39e-8ba5f531b1e7"
      },
      "execution_count": 12,
      "outputs": [
        {
          "output_type": "display_data",
          "data": {
            "text/plain": [
              "<Figure size 1080x360 with 4 Axes>"
            ],
            "image/png": "[encoded data removed]"
          },
          "metadata": {
            "needs_background": "light"
          }
        }
      ]
    },
    {
      "cell_type": "code",
      "source": [
        "sns.histplot(data=loan.sort_values('Grade'), y = \"Grade\", color='orange',linewidth=2, line_kws={\"color\": \"black\"})#, hue='Loan Status')\n",
        "plt.tight_layout()  \n",
        "plt.xlabel(\"Cantidad de prestamos\")\n",
        "plt.ylabel(\"Grado\")\n",
        "plt.title(\"Total de prestamos por Grado\")\n",
        "plt.show()"
      ],
      "metadata": {
        "colab": {
          "base_uri": "https://localhost:8080/",
          "height": 313
        },
        "id": "bhYJrHGsNq7m",
        "outputId": "9387ec8f-0999-4a2f-98cb-1fccaebe28b8"
      },
      "execution_count": 13,
      "outputs": [
        {
          "output_type": "display_data",
          "data": {
            "text/plain": [
              "<Figure size 432x288 with 1 Axes>"
            ],
            "image/png": "[encoded data removed]"
          },
          "metadata": {
            "needs_background": "light"
          }
        }
      ]
    },
    {
      "cell_type": "code",
      "source": [
        "plt.figure(figsize=(15,5))\n",
        "sns.histplot(data=loan.sort_values('Sub Grade'), x = \"Sub Grade\", color='orange', linewidth=2, line_kws={\"color\": \"black\"})#, hue='Loan Status')\n",
        "plt.tight_layout()  \n",
        "plt.xlabel(\"Cantidad de prestamos\")\n",
        "plt.ylabel(\"Sub Grado\")\n",
        "plt.title(\"Total de prestamos por Sub Grado\")\n",
        "plt.show()"
      ],
      "metadata": {
        "colab": {
          "base_uri": "https://localhost:8080/",
          "height": 385
        },
        "id": "8KRXiEztN7d1",
        "outputId": "1409b73e-c105-4806-fd31-1fb9d5cef235"
      },
      "execution_count": 14,
      "outputs": [
        {
          "output_type": "display_data",
          "data": {
            "text/plain": [
              "<Figure size 1080x360 with 1 Axes>"
            ],
            "image/png": "[encoded data removed]"
          },
          "metadata": {
            "needs_background": "light"
          }
        }
      ]
    },
    {
      "cell_type": "markdown",
      "source": [
        "### 3.3 Transformación de los datos <a name=\"id33\"></a>\n",
        "\n",
        "Con la información obtenida, se realizará las siguientes transformaciones:\n",
        "- Eliminación de columnas innecesarias.\n",
        "- OneHotEncoder y LabelEncoder en las columnas necesarias.\n",
        "- Normalización de los datos numericos."
      ],
      "metadata": {
        "id": "pdh4s96WQX3j"
      }
    },
    {
      "cell_type": "markdown",
      "source": [
        "#### Eliminación de datos\n",
        "**Las columnas eliminadas son las siguientes:**  \n",
        "- <font color='orange'>**Batch Enrolled:**</font> Numero de inscripcion del lote. Mismo motivo que la eliminación de \"ID\".\n",
        "- <font color='orange'>**Payment Plan:**</font> No tiene repercusión en el analisis."
      ],
      "metadata": {
        "id": "3qUlkyJpQ53i"
      }
    },
    {
      "cell_type": "code",
      "source": [
        "loan2.drop(columns = ['Batch Enrolled', 'Payment Plan'], inplace = True)"
      ],
      "metadata": {
        "id": "WcUEaCUERD80"
      },
      "execution_count": 15,
      "outputs": []
    },
    {
      "cell_type": "markdown",
      "source": [
        "#### Transformación de la columna \"Loan Title\" \n",
        "\n",
        "Esta columna nos indica el titulo del prestamo, esto nos puede servir para conocer el motivo del mismo y ver si tiene alguna relación con los posibles morosos.\n",
        "\n",
        "La dificultad de esta columna es la enorme cantidad de variables, pero si ponemos atención muchas de estas son lo mismo pero con errores de ortografia o escrita de diferentes maneras."
      ],
      "metadata": {
        "id": "KJ5gKbhtiXJg"
      }
    },
    {
      "cell_type": "code",
      "source": [
        "loan2['Loan Title'].unique()"
      ],
      "metadata": {
        "colab": {
          "base_uri": "https://localhost:8080/"
        },
        "id": "GyUTgrsGipMj",
        "outputId": "804b8296-2d49-49d1-8591-37584fe6a1d6"
      },
      "execution_count": 16,
      "outputs": [
        {
          "output_type": "execute_result",
          "data": {
            "text/plain": [
              "array(['Debt Consolidation', 'Debt consolidation',\n",
              "       'Credit card refinancing', 'Home improvement',\n",
              "       'Credit Consolidation', 'Green loan', 'Other',\n",
              "       'Moving and relocation', 'Credit Cards', 'Medical expenses',\n",
              "       'DEBT CONSOLIDATION', 'Home Improvement', 'Refinance',\n",
              "       'credit card consolidation', 'Lending Club',\n",
              "       'Debt Consolidation Loan', 'Major purchase', 'Vacation',\n",
              "       'Business', 'Credit card payoff', 'Credit Card Consolidation',\n",
              "       'credit card', 'Credit Card Refi', 'Personal Loan', 'CC Refi',\n",
              "       'consolidate', 'Medical', 'Loan 1', 'Consolidation',\n",
              "       'Card Consolidation', 'Car financing', 'debt', 'home improvement',\n",
              "       'debt consolidation', 'Home buying', 'Freedom', 'Consolidate',\n",
              "       'Consolidated', 'get out of debt', 'consolidation loan',\n",
              "       'Dept consolidation', 'Personal loan', 'Personal', 'Debt', 'cards',\n",
              "       'Cards', 'Bathroom', 'refi', 'Credit Card Loan',\n",
              "       'Credit Card Debt', 'House', 'Debt Consolidation 2013',\n",
              "       'debt loan', 'CC Refinance', 'Consolidation Loan', 'Home',\n",
              "       'CC consolidation', 'Credit Card', 'Credit Card Refinance',\n",
              "       'Credit Loan', 'payoff', 'Bill Consolidation',\n",
              "       'credit card refinance', 'Credit Card consolidation',\n",
              "       'Credit Card Paydown', 'Credit card pay off', 'vacation',\n",
              "       'Credit card refinance', 'Get Debt Free', 'MYLOAN',\n",
              "       'credit pay off', 'Payoff', 'consolidation', 'My Loan', 'Loan',\n",
              "       'Bill Payoff', 'CC-Refinance', 'Debt Reduction', 'Medical loan',\n",
              "       'Wedding Loan', 'Credit', 'CONSOLIDATE', 'personal',\n",
              "       'pay off bills', 'CC Consolidation', 'Refinance Loan',\n",
              "       'Credit Card Payoff', 'Debt Payoff', 'Car Loan', 'Pay Off',\n",
              "       'Debt Loan', 'CONSOLIDATION', 'Pool', 'Credit payoff',\n",
              "       'Credit Card Refinance Loan', 'CC Loan', 'Debt Free',\n",
              "       'debt consolidation loan', 'conso', 'Home Improvement Loan',\n",
              "       'Loan Consolidation', 'Debt payoff', 'Lending loan', 'relief',\n",
              "       'CC', 'loan1', 'Getting Ahead', 'Home loan', 'bills'], dtype=object)"
            ]
          },
          "metadata": {},
          "execution_count": 16
        }
      ]
    },
    {
      "cell_type": "markdown",
      "source": [
        "Se observa que las categorias mas repetidas son \"Credit card refinancing\" y \"Debt consolidation\" y todo lo que tiene que ver para prestamos de Hogar, ya sea nueva vivienda, mejoras, pileta, etc."
      ],
      "metadata": {
        "id": "IT-V3XuunJtQ"
      }
    },
    {
      "cell_type": "code",
      "source": [
        "pd.options.display.max_rows = 9\n",
        "cuenta_valores = loan2[\"Loan Title\"].value_counts()\n",
        "\n",
        "print(cuenta_valores)"
      ],
      "metadata": {
        "colab": {
          "base_uri": "https://localhost:8080/"
        },
        "id": "v9aq8p-ChMOy",
        "outputId": "48a295a4-0848-431f-96f6-0266db28c05e"
      },
      "execution_count": 17,
      "outputs": [
        {
          "output_type": "stream",
          "name": "stdout",
          "text": [
            "Credit card refinancing    30728\n",
            "Debt consolidation         24841\n",
            "Debt Consolidation          3544\n",
            "Other                       2455\n",
            "                           ...  \n",
            "Personal loan                  5\n",
            "Getting Ahead                  5\n",
            "Credit                         4\n",
            "bills                          4\n",
            "Name: Loan Title, Length: 109, dtype: int64\n"
          ]
        }
      ]
    },
    {
      "cell_type": "markdown",
      "source": [
        "Se decide cambiar manualmente los nombres de algunos datos que nos damos cuenta que son similares y lo agrupamos en 3 datos distintos."
      ],
      "metadata": {
        "id": "DztmClPPnfh0"
      }
    },
    {
      "cell_type": "code",
      "source": [
        "loan2['Loan Title'] = loan2['Loan Title'].replace({'Debt Consolidation': 'Debt consolidation',\n",
        "                                                   'Debt Consolidation Loan':'Debt consolidation',\n",
        "                                                   \"debt consolidation loan\":\"Debt consolidation\",\n",
        "                                                   \"DEBT CONSOLIDATION\":\"Debt consolidation\",\n",
        "                                                   'Home Improvement':'Home',\n",
        "                                                   'Home buying':'Home',\n",
        "                                                   'Home improvement':'Home',\n",
        "                                                   \"Home loan\":\"Home\",\n",
        "                                                   \"House\":\"Home\",\n",
        "                                                   \"Bathroom\":\"Home\",\n",
        "                                                   \"home improvemen\":\"Home\",\n",
        "                                                   \"Credit Card Refinance Loan\":\"Credit card refinancing\",\n",
        "                                                   'Home Improvement Loan':\"Home\",\n",
        "                                                   \"Pool\":\"Home\",\n",
        "                                                   \"Credit Card Refinance\":\"Credit card refinancing\",\n",
        "                                                   \"Debt Consolidation 2013\":\"Debt consolidation\",\n",
        "                                                   \"debt consolidation\":'Debt consolidation',\n",
        "                                                   'get out of debt':\"Debt consolidation\",\n",
        "                                                   'Debt Free':\"Debt consolidation\",\n",
        "                                                   'Bill Consolidation':\"Debt consolidation\",\n",
        "                                                   'Loan Consolidation':\"Debt consolidation\",\n",
        "                                                   'Debt Payoff':\"Debt consolidation\",\n",
        "                                                   'Consolidation Loan':'Debt consolidation'\n",
        "                                                   })"
      ],
      "metadata": {
        "id": "vEp48VH5jAYZ"
      },
      "execution_count": 18,
      "outputs": []
    },
    {
      "cell_type": "markdown",
      "source": [
        "Por último, creamos una función que haga agrupar a todos los demas datos en \"Other\" para asi obtener la columna de 109 datos, reducirla a 4 datos distintos."
      ],
      "metadata": {
        "id": "wrPZ_-OSnxwr"
      }
    },
    {
      "cell_type": "code",
      "source": [
        "def cambio_atributo(x):\n",
        "        if x=='Debt consolidation' or x=='Credit card refinancing' or x==\"Home\":\n",
        "            return x\n",
        "        else:\n",
        "            return 'Other' "
      ],
      "metadata": {
        "id": "lQV2bJz4nmkG"
      },
      "execution_count": 19,
      "outputs": []
    },
    {
      "cell_type": "code",
      "source": [
        "loan2['Loan Title']=loan2['Loan Title'].apply(cambio_atributo)"
      ],
      "metadata": {
        "id": "rU-puvR_nkNZ"
      },
      "execution_count": 20,
      "outputs": []
    },
    {
      "cell_type": "code",
      "source": [
        "pd.options.display.max_rows = None\n",
        "cuenta_valores = loan2[\"Loan Title\"].value_counts()\n",
        "\n",
        "print(cuenta_valores)"
      ],
      "metadata": {
        "colab": {
          "base_uri": "https://localhost:8080/"
        },
        "id": "kNnd3l5Cn9nG",
        "outputId": "f5382d1d-26f8-44f1-bd74-6113a60262e1"
      },
      "execution_count": 21,
      "outputs": [
        {
          "output_type": "stream",
          "name": "stdout",
          "text": [
            "Credit card refinancing    30772\n",
            "Debt consolidation         28771\n",
            "Other                       5468\n",
            "Home                        2452\n",
            "Name: Loan Title, dtype: int64\n"
          ]
        }
      ]
    },
    {
      "cell_type": "markdown",
      "metadata": {
        "id": "iT8fL4igQYxx"
      },
      "source": [
        "#### Aplicando OneHotEncoder\n",
        "\n",
        "Se aplicará a las columnas:\n",
        " - \"Employment Duration\" \n",
        " - \"Term\"\n",
        " - \"Verification Status\"\n",
        " - \"Loan Title\"\n",
        " \n",
        "la primera al tener 3 variables distintas, lo que se hizo fue crear 3 columnas distintas para cada una de las variables y rellenar con \"1\" y \"0\" dependiende de cual de esa 3 caracteristica tiene el prestamo. Mientras que con la ultima columna solo hacia referencia a si el prestamo era individual o en conjunto, por lo que se decidio reemplazar por \"1\" los individuales, y dejar los que no con \"0\"."
      ]
    },
    {
      "cell_type": "code",
      "execution_count": 22,
      "metadata": {
        "id": "MyTNsmihQYxx"
      },
      "outputs": [],
      "source": [
        "ohe = OneHotEncoder()\n",
        "ohe.fit(loan2[['Employment Duration']])\n",
        "ohe_result = ohe.transform(loan2[['Employment Duration']]).toarray()\n",
        "ohe_df = pd.DataFrame(ohe_result, columns=ohe.get_feature_names_out(['Employment Duration']))\n",
        "\n",
        "# Concatenamos el dataframe original con el dataframe de variables binarias\n",
        "loan2 = pd.concat([loan2, ohe_df], axis=1)\n",
        "# Eliminamos la columna original\n",
        "loan2 = loan2.drop('Employment Duration', axis=1)"
      ]
    },
    {
      "cell_type": "code",
      "source": [
        "ohe.fit(loan2[['Term']])\n",
        "ohe_result_term = ohe.transform(loan2[['Term']]).toarray()\n",
        "ohe_df_term = pd.DataFrame(ohe_result_term, columns=ohe.get_feature_names_out(['Term']))\n",
        "# Concatenamos el dataframe original con el dataframe de variables binarias\n",
        "loan2 = pd.concat([loan2, ohe_df_term], axis=1)\n",
        "# Eliminamos la columna original\n",
        "loan2 = loan2.drop('Term', axis=1)"
      ],
      "metadata": {
        "id": "CxoA17Z7tyO-"
      },
      "execution_count": 23,
      "outputs": []
    },
    {
      "cell_type": "code",
      "source": [
        "ohe.fit(loan2[['Verification Status']])\n",
        "ohe_result_vs = ohe.transform(loan2[['Verification Status']]).toarray()\n",
        "ohe_df_vs = pd.DataFrame(ohe_result_vs, columns=ohe.get_feature_names_out(['Verification Status']))\n",
        "# Concatenamos el dataframe original con el dataframe de variables binarias\n",
        "loan2 = pd.concat([loan2, ohe_df_vs], axis=1)\n",
        "# Eliminamos la columna original\n",
        "loan2 = loan2.drop('Verification Status', axis=1)"
      ],
      "metadata": {
        "id": "DzucjMXquZCQ"
      },
      "execution_count": 24,
      "outputs": []
    },
    {
      "cell_type": "code",
      "source": [
        "ohe.fit(loan2[['Loan Title']])\n",
        "ohe_result_lt = ohe.transform(loan2[['Loan Title']]).toarray()\n",
        "ohe_df_lt = pd.DataFrame(ohe_result_lt, columns=ohe.get_feature_names_out(['Loan Title']))\n",
        "# Concatenamos el dataframe original con el dataframe de variables binarias\n",
        "loan2 = pd.concat([loan2, ohe_df_lt], axis=1)\n",
        "# Eliminamos la columna original\n",
        "loan2 = loan2.drop('Loan Title', axis=1)"
      ],
      "metadata": {
        "id": "WYY6ZKGOvF9f"
      },
      "execution_count": 25,
      "outputs": []
    },
    {
      "cell_type": "code",
      "source": [
        "#ohe.fit(loan2[['Inquires - six months']])\n",
        "#ohe_result_6m = ohe.transform(loan2[['Inquires - six months']]).toarray()\n",
        "#ohe_df_6m = pd.DataFrame(ohe_result_6m, columns=ohe.get_feature_names_out(['Inquires - six months']))\n",
        "### Concatenamos el dataframe original con el dataframe de variables binarias\n",
        "#loan2 = pd.concat([loan2, ohe_df_6m], axis=1)\n",
        "### Eliminamos la columna original\n",
        "#loan2 = loan2.drop('Inquires - six months', axis=1)"
      ],
      "metadata": {
        "id": "v0UUcgS-vazc"
      },
      "execution_count": 26,
      "outputs": []
    },
    {
      "cell_type": "code",
      "source": [
        "#ohe.fit(loan2[['Public Record']])\n",
        "#ohe_result_pr = ohe.transform(loan2[['Public Record']]).toarray()\n",
        "#ohe_df_pr = pd.DataFrame(ohe_result_pr, columns=ohe.get_feature_names_out(['Public Record']))\n",
        "## Concatenamos el dataframe original con el dataframe de variables binarias\n",
        "#loan2 = pd.concat([loan2, ohe_df_pr], axis=1)\n",
        "## Eliminamos la columna original\n",
        "#loan2 = loan2.drop('Public Record', axis=1)"
      ],
      "metadata": {
        "id": "RCjeX40yxY-E"
      },
      "execution_count": 27,
      "outputs": []
    },
    {
      "cell_type": "markdown",
      "source": [
        "A las siguientes columnas una codificación binaria:\n",
        "- \"Application Type\"\n",
        "- \"Initial List Status\"\n"
      ],
      "metadata": {
        "id": "zyopzPgcpLzB"
      }
    },
    {
      "cell_type": "code",
      "execution_count": 28,
      "metadata": {
        "id": "KiRU9wIMQYxx"
      },
      "outputs": [],
      "source": [
        "loan2['Application Type'] = loan2['Application Type'].replace({'INDIVIDUAL': 0, 'JOINT':1})\n",
        "loan2['Initial List Status'] = loan2['Initial List Status'].replace({'w':1,'f':0})"
      ]
    },
    {
      "cell_type": "code",
      "source": [
        "## Transformamos los resultados \"float\" a \"int\" para quitar los decimales. Queda mas lindo :)\n",
        "loan2['Employment Duration_MORTGAGE']=loan2['Employment Duration_MORTGAGE'].astype(int)\n",
        "loan2['Employment Duration_OWN']=loan2['Employment Duration_OWN'].astype(int)\n",
        "loan2['Employment Duration_RENT']=loan2['Employment Duration_RENT'].astype(int)\n",
        "\n",
        "loan2[[\"Term_36\",\t\"Term_58\",\t\"Term_59\"\t,\"Verification Status_Not Verified\",\t\"Verification Status_Source Verified\",\t\"Verification Status_Verified\",\n",
        "       \"Loan Title_Credit card refinancing\",\t\"Loan Title_Debt consolidation\",\t\"Loan Title_Home\",\t\"Loan Title_Other\"]] = loan2[[\"Term_36\",\t\"Term_58\",\t\"Term_59\"\t,\"Verification Status_Not Verified\",\t\"Verification Status_Source Verified\",\t\"Verification Status_Verified\",\n",
        "       \"Loan Title_Credit card refinancing\",\t\"Loan Title_Debt consolidation\",\t\"Loan Title_Home\",\t\"Loan Title_Other\"]].astype(int) "
      ],
      "metadata": {
        "id": "Kp9Ud-U4x3Zw"
      },
      "execution_count": 29,
      "outputs": []
    },
    {
      "cell_type": "markdown",
      "metadata": {
        "id": "92RhWyowRESF"
      },
      "source": [
        "#### Aplicamos LabelEncoder para transformar \"Grade\" y \"Sub Grade\"\n",
        "\n",
        "Transformamos manualmente los valores de \"Grade\". Ya que son datos ordinales, es decir, que podemos asignar un orden a cada uno, podemos poner un numero a cada uno de estos, que iran del \"1\" al \"7\".\n",
        "Para \"Sub Grade\" haremos lo mismo, pero aplicamos una función de ScikitLearn ya que son \"36\" para hacerlo manualmente."
      ]
    },
    {
      "cell_type": "code",
      "execution_count": 30,
      "metadata": {
        "id": "x-fixppzKnoq"
      },
      "outputs": [],
      "source": [
        "loan2['Grade'] = loan2['Grade'].replace({'A': 1, 'B': 2, 'C':3 , 'D':4 , 'E':5, 'F':6 , 'G':7})"
      ]
    },
    {
      "cell_type": "markdown",
      "source": [
        "Transformamos Sub Grade con ScikitLearn "
      ],
      "metadata": {
        "id": "Q6y0seL4SnjE"
      }
    },
    {
      "cell_type": "code",
      "execution_count": 31,
      "metadata": {
        "id": "64hq8jB0QYxy"
      },
      "outputs": [],
      "source": [
        "loan2 = loan2.sort_values('Sub Grade')   ## Ordenamos los datos por \"Sub Grade\"\n",
        "loan2['Sub Grade'] = LabelEncoder().fit_transform(loan2['Sub Grade']) + 1   #Sumo 1 para que no arranque con 0.\n",
        "loan2 = loan2.sort_index()                            # Volvemos a ordenarlo por el indice\n",
        "# loan2.head()   #Vemos si funcionó correctamente"
      ]
    },
    {
      "cell_type": "markdown",
      "source": [
        "####  Normalización de los datos \n"
      ],
      "metadata": {
        "id": "Wkjm0KJ6VYul"
      }
    },
    {
      "cell_type": "markdown",
      "source": [
        "Para el caso de \"Grade\" y \"Sub Grade\" se realizó una normalización por frecuencia. Mientras que a todo lo demas se utilizo la funcion RobustScaler."
      ],
      "metadata": {
        "id": "yAmwHzme40hQ"
      }
    },
    {
      "cell_type": "code",
      "source": [
        "loan2['Grade']=loan2['Grade'].map(loan2['Grade'].value_counts(normalize=True))\n",
        "loan2['Sub Grade']=loan2['Sub Grade'].map(loan2['Sub Grade'].value_counts(normalize=True))"
      ],
      "metadata": {
        "id": "DKOZBUoxV4PH"
      },
      "execution_count": 32,
      "outputs": []
    },
    {
      "cell_type": "code",
      "source": [
        "from sklearn.preprocessing import RobustScaler\n",
        "rs = RobustScaler()\n",
        "ayuda=loan2[[\"Loan Amount\",\"Funded Amount\",\"Funded Amount Investor\",\"Grade\",\"Sub Grade\",\n",
        "             \"Interest Rate\",\"Home Ownership\",\"Debit to Income\",'Inquires - six months',\n",
        "            \"Open Account\",\"Revolving Balance\",\"Revolving Utilities\",\"Total Accounts\",\n",
        "             \"Total Received Interest\",\"Total Received Late Fee\",\"Recoveries\",'Public Record',\n",
        "             \"Collection Recovery Fee\",\"Last week Pay\", \"Total Collection Amount\",\n",
        "             \"Total Current Balance\",\"Total Revolving Credit Limit\"]]\n",
        "ayuda_scaled = pd.DataFrame(rs.fit_transform(ayuda), columns=ayuda.columns)\n",
        "loan2[[\"Loan Amount\",\"Founded Amount\",\"Funded Amount Investor\", \"Grade\",\"Sub Grade\",\n",
        "             \"Interest Rate\",\"Home Ownership\",\"Debit to Income\",'Inquires - six months',\n",
        "            \"Open Account\",\"Revolving Balance\",\"Revolving Utilities\",\"Total Accounts\",\n",
        "             \"Total Received Interest\",\"Total Received Late Fee\",\"Recoveries\",'Public Record',\n",
        "             \"Collection Recovery Fee\",\"Last week Pay\", \"Total Collection Amount\",\n",
        "             \"Total Current Balance\",\"Total Revolving Credit Limit\"]]=ayuda_scaled"
      ],
      "metadata": {
        "id": "-UTJt-74zL1v"
      },
      "execution_count": 33,
      "outputs": []
    },
    {
      "cell_type": "markdown",
      "source": [
        "#### Reducción de la dimensionalidad\n",
        "\n",
        "Al hacer todas estas transformaciones aumentamos las columnas de 35 a 41, lo que puede ser beneficioso al tener bastante información, pero perjudicial a la hora de hacer predicciones, ya que puede existir datos irrelevantes que hagan sobreajustar los modelos ineccesariamente, para esto aplicaremos un método para reducir las cantidad de columnas utilizando solamente las mas significativas.\n",
        "\n",
        "Utilizaremos el \"forward selection\" con un grado de significatividad alto, de un 20%, para así no reducir demasiado las columnas a utilizar."
      ],
      "metadata": {
        "id": "AlezIFlMnKZf"
      }
    },
    {
      "cell_type": "code",
      "source": [
        "y8 = loan4['Loan Status']                        \n",
        "X8 = loan4.drop('Loan Status', axis=1)               "
      ],
      "metadata": {
        "id": "K2o9CXPznuJd"
      },
      "execution_count": null,
      "outputs": []
    },
    {
      "cell_type": "code",
      "source": [
        "import statsmodels.api as sm\n",
        "def forward_selection(data, target, significance_level=0.01):\n",
        "    initial_features = data.columns.tolist() # Guarda las columnas de los datos en una lista.\n",
        "    best_features = []                                                       # Inicializa una lista vacía para guardar las características óptimas.\n",
        "    while (len(initial_features)>0):\n",
        "        remaining_features = list(set(initial_features)-set(best_features))  # Crea una lista de las características que no han sido evaluadas todavía.\n",
        "        new_pval = pd.Series(index=remaining_features)                       # Crea una serie de pandas para almacenar los valores p de cada nueva característica agregada al modelo.\n",
        "        for new_column in remaining_features:                                # Itera a través de cada característica que no ha sido evaluada todavía.\n",
        "            # Crea un modelo de regresión lineal para la nueva característica, así como las características previamente seleccionadas.\n",
        "            # Luego, ajusta el modelo a los datos y calcula el valor p para la nueva característica.\n",
        "            model = sm.OLS(target, sm.add_constant(data[best_features+[new_column]])).fit()\n",
        "            new_pval[new_column] = model.pvalues[new_column]\n",
        "        min_p_value = new_pval.min()                                         # Encuentra el valor p mínimo entre todas las nuevas características agregadas.\n",
        "        # Si el valor p mínimo es menor que el nivel de significancia establecido, agrega la nueva característica al conjunto óptimo.\n",
        "        if(min_p_value<significance_level):\n",
        "            best_features.append(new_pval.idxmin())\n",
        "        # Si no, termina la iteración porque no hay características que satisfagan el nivel de significancia.\n",
        "        else:\n",
        "            break\n",
        "    return best_features    # Devuelve la lista de características óptimas."
      ],
      "metadata": {
        "id": "KVH71Y4TnJoC"
      },
      "execution_count": 34,
      "outputs": []
    },
    {
      "cell_type": "code",
      "source": [
        "forward_selection(X8,y8,0.2)"
      ],
      "metadata": {
        "colab": {
          "base_uri": "https://localhost:8080/"
        },
        "id": "-XFzgGjonP51",
        "outputId": "4b37c05a-fe37-4cbf-994e-6d7ad11b9d40"
      },
      "execution_count": 48,
      "outputs": [
        {
          "output_type": "stream",
          "name": "stderr",
          "text": [
            "<ipython-input-34-723a9bead416>:7: FutureWarning: The default dtype for empty Series will be 'object' instead of 'float64' in a future version. Specify a dtype explicitly to silence this warning.\n",
            "  new_pval = pd.Series(index=remaining_features)                       # Crea una serie de pandas para almacenar los valores p de cada nueva característica agregada al modelo.\n",
            "<ipython-input-34-723a9bead416>:7: FutureWarning: The default dtype for empty Series will be 'object' instead of 'float64' in a future version. Specify a dtype explicitly to silence this warning.\n",
            "  new_pval = pd.Series(index=remaining_features)                       # Crea una serie de pandas para almacenar los valores p de cada nueva característica agregada al modelo.\n",
            "<ipython-input-34-723a9bead416>:7: FutureWarning: The default dtype for empty Series will be 'object' instead of 'float64' in a future version. Specify a dtype explicitly to silence this warning.\n",
            "  new_pval = pd.Series(index=remaining_features)                       # Crea una serie de pandas para almacenar los valores p de cada nueva característica agregada al modelo.\n",
            "<ipython-input-34-723a9bead416>:7: FutureWarning: The default dtype for empty Series will be 'object' instead of 'float64' in a future version. Specify a dtype explicitly to silence this warning.\n",
            "  new_pval = pd.Series(index=remaining_features)                       # Crea una serie de pandas para almacenar los valores p de cada nueva característica agregada al modelo.\n",
            "<ipython-input-34-723a9bead416>:7: FutureWarning: The default dtype for empty Series will be 'object' instead of 'float64' in a future version. Specify a dtype explicitly to silence this warning.\n",
            "  new_pval = pd.Series(index=remaining_features)                       # Crea una serie de pandas para almacenar los valores p de cada nueva característica agregada al modelo.\n",
            "<ipython-input-34-723a9bead416>:7: FutureWarning: The default dtype for empty Series will be 'object' instead of 'float64' in a future version. Specify a dtype explicitly to silence this warning.\n",
            "  new_pval = pd.Series(index=remaining_features)                       # Crea una serie de pandas para almacenar los valores p de cada nueva característica agregada al modelo.\n",
            "<ipython-input-34-723a9bead416>:7: FutureWarning: The default dtype for empty Series will be 'object' instead of 'float64' in a future version. Specify a dtype explicitly to silence this warning.\n",
            "  new_pval = pd.Series(index=remaining_features)                       # Crea una serie de pandas para almacenar los valores p de cada nueva característica agregada al modelo.\n",
            "<ipython-input-34-723a9bead416>:7: FutureWarning: The default dtype for empty Series will be 'object' instead of 'float64' in a future version. Specify a dtype explicitly to silence this warning.\n",
            "  new_pval = pd.Series(index=remaining_features)                       # Crea una serie de pandas para almacenar los valores p de cada nueva característica agregada al modelo.\n",
            "<ipython-input-34-723a9bead416>:7: FutureWarning: The default dtype for empty Series will be 'object' instead of 'float64' in a future version. Specify a dtype explicitly to silence this warning.\n",
            "  new_pval = pd.Series(index=remaining_features)                       # Crea una serie de pandas para almacenar los valores p de cada nueva característica agregada al modelo.\n",
            "<ipython-input-34-723a9bead416>:7: FutureWarning: The default dtype for empty Series will be 'object' instead of 'float64' in a future version. Specify a dtype explicitly to silence this warning.\n",
            "  new_pval = pd.Series(index=remaining_features)                       # Crea una serie de pandas para almacenar los valores p de cada nueva característica agregada al modelo.\n",
            "<ipython-input-34-723a9bead416>:7: FutureWarning: The default dtype for empty Series will be 'object' instead of 'float64' in a future version. Specify a dtype explicitly to silence this warning.\n",
            "  new_pval = pd.Series(index=remaining_features)                       # Crea una serie de pandas para almacenar los valores p de cada nueva característica agregada al modelo.\n",
            "<ipython-input-34-723a9bead416>:7: FutureWarning: The default dtype for empty Series will be 'object' instead of 'float64' in a future version. Specify a dtype explicitly to silence this warning.\n",
            "  new_pval = pd.Series(index=remaining_features)                       # Crea una serie de pandas para almacenar los valores p de cada nueva característica agregada al modelo.\n",
            "<ipython-input-34-723a9bead416>:7: FutureWarning: The default dtype for empty Series will be 'object' instead of 'float64' in a future version. Specify a dtype explicitly to silence this warning.\n",
            "  new_pval = pd.Series(index=remaining_features)                       # Crea una serie de pandas para almacenar los valores p de cada nueva característica agregada al modelo.\n",
            "<ipython-input-34-723a9bead416>:7: FutureWarning: The default dtype for empty Series will be 'object' instead of 'float64' in a future version. Specify a dtype explicitly to silence this warning.\n",
            "  new_pval = pd.Series(index=remaining_features)                       # Crea una serie de pandas para almacenar los valores p de cada nueva característica agregada al modelo.\n"
          ]
        },
        {
          "output_type": "execute_result",
          "data": {
            "text/plain": [
              "['Term_58',\n",
              " 'Employment Duration_MORTGAGE',\n",
              " 'Initial List Status',\n",
              " 'Public Record',\n",
              " 'Delinquency - two years',\n",
              " 'Total Current Balance',\n",
              " 'Total Received Late Fee',\n",
              " 'Sub Grade',\n",
              " 'Loan Title_Debt consolidation',\n",
              " 'Grade',\n",
              " 'Total Collection Amount',\n",
              " 'Last week Pay',\n",
              " 'Open Account']"
            ]
          },
          "metadata": {},
          "execution_count": 48
        }
      ]
    },
    {
      "cell_type": "markdown",
      "source": [
        "Obtenemos 13 columnas significativas, por lo que se puede crear un nuevo DF utilizando solamente estas columnas"
      ],
      "metadata": {
        "id": "6PgRcKV8p4h2"
      }
    },
    {
      "cell_type": "code",
      "source": [
        "copia=loan2.copy()  \n",
        "loan_new=copia[['Term_58',\n",
        " 'Employment Duration_MORTGAGE',\n",
        " 'Initial List Status',\n",
        " 'Public Record',\n",
        " 'Delinquency - two years',\n",
        " 'Total Current Balance',\n",
        " 'Total Received Late Fee',\n",
        " 'Sub Grade',\n",
        " 'Loan Title_Debt consolidation',\n",
        " 'Grade',\n",
        " 'Total Collection Amount',\n",
        " 'Last week Pay',\n",
        " 'Open Account','Loan Status']]"
      ],
      "metadata": {
        "id": "wWmacmaTqBI4"
      },
      "execution_count": 49,
      "outputs": []
    },
    {
      "cell_type": "markdown",
      "source": [
        "### Resultado de la transformación <a name=\"id6\"></a>\n",
        "\n",
        "Visualizamos el DF original vs el DF transformado (sin la reducción de la dimensionalidad para apreciar bien todos los datos agregados)"
      ],
      "metadata": {
        "id": "l_Zs3LYHTs2b"
      }
    },
    {
      "cell_type": "code",
      "source": [
        "pd.options.display.max_columns = None #Para ver todas las columnas completas sin limites\n",
        "loan.head()"
      ],
      "metadata": {
        "colab": {
          "base_uri": "https://localhost:8080/",
          "height": 0
        },
        "id": "U10fn8XzTwbz",
        "outputId": "d04ae194-ebdb-450b-96ab-d05b77ad7a4f"
      },
      "execution_count": 36,
      "outputs": [
        {
          "output_type": "execute_result",
          "data": {
            "text/plain": [
              "         ID  Loan Amount  Funded Amount  Funded Amount Investor  Term  \\\n",
              "0  65087372        10000          32236             12329.36286    59   \n",
              "1   1450153         3609          11940             12191.99692    59   \n",
              "2   1969101        28276           9311             21603.22455    59   \n",
              "3   6651430        11170           6954             17877.15585    59   \n",
              "4  14354669        16890          13226             13539.92667    59   \n",
              "\n",
              "  Batch Enrolled  Interest Rate Grade Sub Grade Employment Duration  \\\n",
              "0     BAT2522922      11.135007     B        C4            MORTGAGE   \n",
              "1     BAT1586599      12.237563     C        D3                RENT   \n",
              "2     BAT2136391      12.545884     F        D4            MORTGAGE   \n",
              "3     BAT2428731      16.731201     C        C3            MORTGAGE   \n",
              "4     BAT5341619      15.008300     C        D4            MORTGAGE   \n",
              "\n",
              "   Home Ownership Verification Status Payment Plan               Loan Title  \\\n",
              "0    176346.62670        Not Verified            n       Debt Consolidation   \n",
              "1     39833.92100     Source Verified            n       Debt consolidation   \n",
              "2     91506.69105     Source Verified            n       Debt Consolidation   \n",
              "3    108286.57590     Source Verified            n       Debt consolidation   \n",
              "4     44234.82545     Source Verified            n  Credit card refinancing   \n",
              "\n",
              "   Debit to Income  Delinquency - two years  Inquires - six months  \\\n",
              "0        16.284758                        1                      0   \n",
              "1        15.412409                        0                      0   \n",
              "2        28.137619                        0                      0   \n",
              "3        18.043730                        1                      0   \n",
              "4        17.209886                        1                      3   \n",
              "\n",
              "   Open Account  Public Record  Revolving Balance  Revolving Utilities  \\\n",
              "0            13              0              24246            74.932551   \n",
              "1            12              0                812            78.297186   \n",
              "2            14              0               1843             2.073040   \n",
              "3             7              0              13819            67.467951   \n",
              "4            13              1               1544            85.250761   \n",
              "\n",
              "   Total Accounts Initial List Status  Total Received Interest  \\\n",
              "0               7                   w              2929.646315   \n",
              "1              13                   f               772.769385   \n",
              "2              20                   w               863.324396   \n",
              "3              12                   w               288.173196   \n",
              "4              22                   w               129.239553   \n",
              "\n",
              "   Total Received Late Fee   Recoveries  Collection Recovery Fee  \\\n",
              "0                 0.102055     2.498291                 0.793724   \n",
              "1                 0.036181     2.377215                 0.974821   \n",
              "2                18.778660     4.316277                 1.020075   \n",
              "3                 0.044131     0.107020                 0.749971   \n",
              "4                19.306646  1294.818751                 0.368953   \n",
              "\n",
              "   Collection 12 months Medical Application Type  Last week Pay  \\\n",
              "0                             0       INDIVIDUAL             49   \n",
              "1                             0       INDIVIDUAL            109   \n",
              "2                             0       INDIVIDUAL             66   \n",
              "3                             0       INDIVIDUAL             39   \n",
              "4                             0       INDIVIDUAL             18   \n",
              "\n",
              "   Accounts Delinquent  Total Collection Amount  Total Current Balance  \\\n",
              "0                    0                       31                 311301   \n",
              "1                    0                       53                 182610   \n",
              "2                    0                       34                  89801   \n",
              "3                    0                       40                   9189   \n",
              "4                    0                      430                 126029   \n",
              "\n",
              "   Total Revolving Credit Limit  Loan Status  \n",
              "0                          6619            0  \n",
              "1                         20885            0  \n",
              "2                         26155            0  \n",
              "3                         60214            0  \n",
              "4                         22579            0  "
            ],
            "text/html": [
              "\n",
              "  <div id=\"df-7fb4eb47-b2b0-45b0-9beb-72fccee592a5\">\n",
              "    <div class=\"colab-df-container\">\n",
              "      <div>\n",
              "<style scoped>\n",
              "    .dataframe tbody tr th:only-of-type {\n",
              "        vertical-align: middle;\n",
              "    }\n",
              "\n",
              "    .dataframe tbody tr th {\n",
              "        vertical-align: top;\n",
              "    }\n",
              "\n",
              "    .dataframe thead th {\n",
              "        text-align: right;\n",
              "    }\n",
              "</style>\n",
              "<table border=\"1\" class=\"dataframe\">\n",
              "  <thead>\n",
              "    <tr style=\"text-align: right;\">\n",
              "      <th></th>\n",
              "      <th>ID</th>\n",
              "      <th>Loan Amount</th>\n",
              "      <th>Funded Amount</th>\n",
              "      <th>Funded Amount Investor</th>\n",
              "      <th>Term</th>\n",
              "      <th>Batch Enrolled</th>\n",
              "      <th>Interest Rate</th>\n",
              "      <th>Grade</th>\n",
              "      <th>Sub Grade</th>\n",
              "      <th>Employment Duration</th>\n",
              "      <th>Home Ownership</th>\n",
              "      <th>Verification Status</th>\n",
              "      <th>Payment Plan</th>\n",
              "      <th>Loan Title</th>\n",
              "      <th>Debit to Income</th>\n",
              "      <th>Delinquency - two years</th>\n",
              "      <th>Inquires - six months</th>\n",
              "      <th>Open Account</th>\n",
              "      <th>Public Record</th>\n",
              "      <th>Revolving Balance</th>\n",
              "      <th>Revolving Utilities</th>\n",
              "      <th>Total Accounts</th>\n",
              "      <th>Initial List Status</th>\n",
              "      <th>Total Received Interest</th>\n",
              "      <th>Total Received Late Fee</th>\n",
              "      <th>Recoveries</th>\n",
              "      <th>Collection Recovery Fee</th>\n",
              "      <th>Collection 12 months Medical</th>\n",
              "      <th>Application Type</th>\n",
              "      <th>Last week Pay</th>\n",
              "      <th>Accounts Delinquent</th>\n",
              "      <th>Total Collection Amount</th>\n",
              "      <th>Total Current Balance</th>\n",
              "      <th>Total Revolving Credit Limit</th>\n",
              "      <th>Loan Status</th>\n",
              "    </tr>\n",
              "  </thead>\n",
              "  <tbody>\n",
              "    <tr>\n",
              "      <th>0</th>\n",
              "      <td>65087372</td>\n",
              "      <td>10000</td>\n",
              "      <td>32236</td>\n",
              "      <td>12329.36286</td>\n",
              "      <td>59</td>\n",
              "      <td>BAT2522922</td>\n",
              "      <td>11.135007</td>\n",
              "      <td>B</td>\n",
              "      <td>C4</td>\n",
              "      <td>MORTGAGE</td>\n",
              "      <td>176346.62670</td>\n",
              "      <td>Not Verified</td>\n",
              "      <td>n</td>\n",
              "      <td>Debt Consolidation</td>\n",
              "      <td>16.284758</td>\n",
              "      <td>1</td>\n",
              "      <td>0</td>\n",
              "      <td>13</td>\n",
              "      <td>0</td>\n",
              "      <td>24246</td>\n",
              "      <td>74.932551</td>\n",
              "      <td>7</td>\n",
              "      <td>w</td>\n",
              "      <td>2929.646315</td>\n",
              "      <td>0.102055</td>\n",
              "      <td>2.498291</td>\n",
              "      <td>0.793724</td>\n",
              "      <td>0</td>\n",
              "      <td>INDIVIDUAL</td>\n",
              "      <td>49</td>\n",
              "      <td>0</td>\n",
              "      <td>31</td>\n",
              "      <td>311301</td>\n",
              "      <td>6619</td>\n",
              "      <td>0</td>\n",
              "    </tr>\n",
              "    <tr>\n",
              "      <th>1</th>\n",
              "      <td>1450153</td>\n",
              "      <td>3609</td>\n",
              "      <td>11940</td>\n",
              "      <td>12191.99692</td>\n",
              "      <td>59</td>\n",
              "      <td>BAT1586599</td>\n",
              "      <td>12.237563</td>\n",
              "      <td>C</td>\n",
              "      <td>D3</td>\n",
              "      <td>RENT</td>\n",
              "      <td>39833.92100</td>\n",
              "      <td>Source Verified</td>\n",
              "      <td>n</td>\n",
              "      <td>Debt consolidation</td>\n",
              "      <td>15.412409</td>\n",
              "      <td>0</td>\n",
              "      <td>0</td>\n",
              "      <td>12</td>\n",
              "      <td>0</td>\n",
              "      <td>812</td>\n",
              "      <td>78.297186</td>\n",
              "      <td>13</td>\n",
              "      <td>f</td>\n",
              "      <td>772.769385</td>\n",
              "      <td>0.036181</td>\n",
              "      <td>2.377215</td>\n",
              "      <td>0.974821</td>\n",
              "      <td>0</td>\n",
              "      <td>INDIVIDUAL</td>\n",
              "      <td>109</td>\n",
              "      <td>0</td>\n",
              "      <td>53</td>\n",
              "      <td>182610</td>\n",
              "      <td>20885</td>\n",
              "      <td>0</td>\n",
              "    </tr>\n",
              "    <tr>\n",
              "      <th>2</th>\n",
              "      <td>1969101</td>\n",
              "      <td>28276</td>\n",
              "      <td>9311</td>\n",
              "      <td>21603.22455</td>\n",
              "      <td>59</td>\n",
              "      <td>BAT2136391</td>\n",
              "      <td>12.545884</td>\n",
              "      <td>F</td>\n",
              "      <td>D4</td>\n",
              "      <td>MORTGAGE</td>\n",
              "      <td>91506.69105</td>\n",
              "      <td>Source Verified</td>\n",
              "      <td>n</td>\n",
              "      <td>Debt Consolidation</td>\n",
              "      <td>28.137619</td>\n",
              "      <td>0</td>\n",
              "      <td>0</td>\n",
              "      <td>14</td>\n",
              "      <td>0</td>\n",
              "      <td>1843</td>\n",
              "      <td>2.073040</td>\n",
              "      <td>20</td>\n",
              "      <td>w</td>\n",
              "      <td>863.324396</td>\n",
              "      <td>18.778660</td>\n",
              "      <td>4.316277</td>\n",
              "      <td>1.020075</td>\n",
              "      <td>0</td>\n",
              "      <td>INDIVIDUAL</td>\n",
              "      <td>66</td>\n",
              "      <td>0</td>\n",
              "      <td>34</td>\n",
              "      <td>89801</td>\n",
              "      <td>26155</td>\n",
              "      <td>0</td>\n",
              "    </tr>\n",
              "    <tr>\n",
              "      <th>3</th>\n",
              "      <td>6651430</td>\n",
              "      <td>11170</td>\n",
              "      <td>6954</td>\n",
              "      <td>17877.15585</td>\n",
              "      <td>59</td>\n",
              "      <td>BAT2428731</td>\n",
              "      <td>16.731201</td>\n",
              "      <td>C</td>\n",
              "      <td>C3</td>\n",
              "      <td>MORTGAGE</td>\n",
              "      <td>108286.57590</td>\n",
              "      <td>Source Verified</td>\n",
              "      <td>n</td>\n",
              "      <td>Debt consolidation</td>\n",
              "      <td>18.043730</td>\n",
              "      <td>1</td>\n",
              "      <td>0</td>\n",
              "      <td>7</td>\n",
              "      <td>0</td>\n",
              "      <td>13819</td>\n",
              "      <td>67.467951</td>\n",
              "      <td>12</td>\n",
              "      <td>w</td>\n",
              "      <td>288.173196</td>\n",
              "      <td>0.044131</td>\n",
              "      <td>0.107020</td>\n",
              "      <td>0.749971</td>\n",
              "      <td>0</td>\n",
              "      <td>INDIVIDUAL</td>\n",
              "      <td>39</td>\n",
              "      <td>0</td>\n",
              "      <td>40</td>\n",
              "      <td>9189</td>\n",
              "      <td>60214</td>\n",
              "      <td>0</td>\n",
              "    </tr>\n",
              "    <tr>\n",
              "      <th>4</th>\n",
              "      <td>14354669</td>\n",
              "      <td>16890</td>\n",
              "      <td>13226</td>\n",
              "      <td>13539.92667</td>\n",
              "      <td>59</td>\n",
              "      <td>BAT5341619</td>\n",
              "      <td>15.008300</td>\n",
              "      <td>C</td>\n",
              "      <td>D4</td>\n",
              "      <td>MORTGAGE</td>\n",
              "      <td>44234.82545</td>\n",
              "      <td>Source Verified</td>\n",
              "      <td>n</td>\n",
              "      <td>Credit card refinancing</td>\n",
              "      <td>17.209886</td>\n",
              "      <td>1</td>\n",
              "      <td>3</td>\n",
              "      <td>13</td>\n",
              "      <td>1</td>\n",
              "      <td>1544</td>\n",
              "      <td>85.250761</td>\n",
              "      <td>22</td>\n",
              "      <td>w</td>\n",
              "      <td>129.239553</td>\n",
              "      <td>19.306646</td>\n",
              "      <td>1294.818751</td>\n",
              "      <td>0.368953</td>\n",
              "      <td>0</td>\n",
              "      <td>INDIVIDUAL</td>\n",
              "      <td>18</td>\n",
              "      <td>0</td>\n",
              "      <td>430</td>\n",
              "      <td>126029</td>\n",
              "      <td>22579</td>\n",
              "      <td>0</td>\n",
              "    </tr>\n",
              "  </tbody>\n",
              "</table>\n",
              "</div>\n",
              "      <button class=\"colab-df-convert\" onclick=\"convertToInteractive('df-7fb4eb47-b2b0-45b0-9beb-72fccee592a5')\"\n",
              "              title=\"Convert this dataframe to an interactive table.\"\n",
              "              style=\"display:none;\">\n",
              "        \n",
              "  <svg xmlns=\"http://www.w3.org/2000/svg\" height=\"24px\"viewBox=\"0 0 24 24\"\n",
              "       width=\"24px\">\n",
              "    <path d=\"M0 0h24v24H0V0z\" fill=\"none\"/>\n",
              "    <path d=\"M18.56 5.44l.94 2.06.94-2.06 2.06-.94-2.06-.94-.94-2.06-.94 2.06-2.06.94zm-11 1L8.5 8.5l.94-2.06 2.06-.94-2.06-.94L8.5 2.5l-.94 2.06-2.06.94zm10 10l.94 2.06.94-2.06 2.06-.94-2.06-.94-.94-2.06-.94 2.06-2.06.94z\"/><path d=\"M17.41 7.96l-1.37-1.37c-.4-.4-.92-.59-1.43-.59-.52 0-1.04.2-1.43.59L10.3 9.45l-7.72 7.72c-.78.78-.78 2.05 0 2.83L4 21.41c.39.39.9.59 1.41.59.51 0 1.02-.2 1.41-.59l7.78-7.78 2.81-2.81c.8-.78.8-2.07 0-2.86zM5.41 20L4 18.59l7.72-7.72 1.47 1.35L5.41 20z\"/>\n",
              "  </svg>\n",
              "      </button>\n",
              "      \n",
              "  <style>\n",
              "    .colab-df-container {\n",
              "      display:flex;\n",
              "      flex-wrap:wrap;\n",
              "      gap: 12px;\n",
              "    }\n",
              "\n",
              "    .colab-df-convert {\n",
              "      background-color: #E8F0FE;\n",
              "      border: none;\n",
              "      border-radius: 50%;\n",
              "      cursor: pointer;\n",
              "      display: none;\n",
              "      fill: #1967D2;\n",
              "      height: 32px;\n",
              "      padding: 0 0 0 0;\n",
              "      width: 32px;\n",
              "    }\n",
              "\n",
              "    .colab-df-convert:hover {\n",
              "      background-color: #E2EBFA;\n",
              "      box-shadow: 0px 1px 2px rgba(60, 64, 67, 0.3), 0px 1px 3px 1px rgba(60, 64, 67, 0.15);\n",
              "      fill: #174EA6;\n",
              "    }\n",
              "\n",
              "    [theme=dark] .colab-df-convert {\n",
              "      background-color: #3B4455;\n",
              "      fill: #D2E3FC;\n",
              "    }\n",
              "\n",
              "    [theme=dark] .colab-df-convert:hover {\n",
              "      background-color: #434B5C;\n",
              "      box-shadow: 0px 1px 3px 1px rgba(0, 0, 0, 0.15);\n",
              "      filter: drop-shadow(0px 1px 2px rgba(0, 0, 0, 0.3));\n",
              "      fill: #FFFFFF;\n",
              "    }\n",
              "  </style>\n",
              "\n",
              "      <script>\n",
              "        const buttonEl =\n",
              "          document.querySelector('#df-7fb4eb47-b2b0-45b0-9beb-72fccee592a5 button.colab-df-convert');\n",
              "        buttonEl.style.display =\n",
              "          google.colab.kernel.accessAllowed ? 'block' : 'none';\n",
              "\n",
              "        async function convertToInteractive(key) {\n",
              "          const element = document.querySelector('#df-7fb4eb47-b2b0-45b0-9beb-72fccee592a5');\n",
              "          const dataTable =\n",
              "            await google.colab.kernel.invokeFunction('convertToInteractive',\n",
              "                                                     [key], {});\n",
              "          if (!dataTable) return;\n",
              "\n",
              "          const docLinkHtml = 'Like what you see? Visit the ' +\n",
              "            '<a target=\"_blank\" href=https://colab.research.google.com/notebooks/data_table.ipynb>data table notebook</a>'\n",
              "            + ' to learn more about interactive tables.';\n",
              "          element.innerHTML = '';\n",
              "          dataTable['output_type'] = 'display_data';\n",
              "          await google.colab.output.renderOutput(dataTable, element);\n",
              "          const docLink = document.createElement('div');\n",
              "          docLink.innerHTML = docLinkHtml;\n",
              "          element.appendChild(docLink);\n",
              "        }\n",
              "      </script>\n",
              "    </div>\n",
              "  </div>\n",
              "  "
            ]
          },
          "metadata": {},
          "execution_count": 36
        }
      ]
    },
    {
      "cell_type": "code",
      "source": [
        "loan2.head()"
      ],
      "metadata": {
        "colab": {
          "base_uri": "https://localhost:8080/",
          "height": 0
        },
        "id": "BGK_JU14T0QH",
        "outputId": "be9cb354-18b1-4a6e-edd8-f8c957b16c1a"
      },
      "execution_count": 37,
      "outputs": [
        {
          "output_type": "execute_result",
          "data": {
            "text/plain": [
              "   Loan Amount  Funded Amount  Funded Amount Investor  Interest Rate  \\\n",
              "0    -0.502150          32236               -0.058215      -0.049565   \n",
              "1    -1.030594          11940               -0.075438       0.175612   \n",
              "2     1.009013           9311                1.104519       0.238582   \n",
              "3    -0.405408           6954                0.637354       1.093358   \n",
              "4     0.067554          13226                0.093562       0.741486   \n",
              "\n",
              "      Grade  Sub Grade  Home Ownership  Debit to Income  \\\n",
              "0  0.000000   0.076649        2.492479        -0.479379   \n",
              "1  0.031683  -0.770648       -0.687154        -0.545009   \n",
              "2 -1.523739  -0.636364        0.516400         0.412351   \n",
              "3  0.031683   0.000000        0.907235        -0.347046   \n",
              "4  0.031683  -0.636364       -0.584649        -0.409779   \n",
              "\n",
              "   Delinquency - two years  Inquires - six months  Open Account  \\\n",
              "0                        1                    0.0      0.000000   \n",
              "1                        0                    0.0     -0.166667   \n",
              "2                        0                    0.0      0.166667   \n",
              "3                        1                    0.0     -1.000000   \n",
              "4                        1                    3.0      0.000000   \n",
              "\n",
              "   Public Record  Revolving Balance  Revolving Utilities  Total Accounts  \\\n",
              "0            0.0           2.455588             0.683204            -1.1   \n",
              "1            0.0          -0.616716             0.793454            -0.5   \n",
              "2            0.0          -0.481547            -1.704201             0.2   \n",
              "3            0.0           1.088561             0.438610            -0.6   \n",
              "4            1.0          -0.520747             1.021303             0.4   \n",
              "\n",
              "   Initial List Status  Total Received Interest  Total Received Late Fee  \\\n",
              "0                    1                 0.766425                 1.155358   \n",
              "1                    0                -0.267526                -0.142138   \n",
              "2                    1                -0.224116               369.021540   \n",
              "3                    1                -0.499829                 0.014454   \n",
              "4                    1                -0.576018               379.421091   \n",
              "\n",
              "   Recoveries  Collection Recovery Fee  Collection 12 months Medical  \\\n",
              "0   -0.221301                 0.022855                             0   \n",
              "1   -0.252963                 0.327576                             0   \n",
              "2    0.254126                 0.403722                             0   \n",
              "3   -0.846648                -0.050764                             0   \n",
              "4  337.736628                -0.691879                             0   \n",
              "\n",
              "   Application Type  Last week Pay  Total Collection Amount  \\\n",
              "0                 0      -0.271429                -0.227273   \n",
              "1                 0       0.585714                 0.772727   \n",
              "2                 0      -0.028571                -0.090909   \n",
              "3                 0      -0.414286                 0.181818   \n",
              "4                 0      -0.714286                17.909091   \n",
              "\n",
              "   Total Current Balance  Total Revolving Credit Limit  Loan Status  \\\n",
              "0               1.083912                     -0.421575            0   \n",
              "1               0.360913                      0.173065            0   \n",
              "2              -0.160498                      0.392731            0   \n",
              "3              -0.613385                      1.812388            0   \n",
              "4               0.043035                      0.243675            0   \n",
              "\n",
              "   Employment Duration_MORTGAGE  Employment Duration_OWN  \\\n",
              "0                             1                        0   \n",
              "1                             0                        0   \n",
              "2                             1                        0   \n",
              "3                             1                        0   \n",
              "4                             1                        0   \n",
              "\n",
              "   Employment Duration_RENT  Term_36  Term_58  Term_59  \\\n",
              "0                         0        0        0        1   \n",
              "1                         1        0        0        1   \n",
              "2                         0        0        0        1   \n",
              "3                         0        0        0        1   \n",
              "4                         0        0        0        1   \n",
              "\n",
              "   Verification Status_Not Verified  Verification Status_Source Verified  \\\n",
              "0                                 1                                    0   \n",
              "1                                 0                                    1   \n",
              "2                                 0                                    1   \n",
              "3                                 0                                    1   \n",
              "4                                 0                                    1   \n",
              "\n",
              "   Verification Status_Verified  Loan Title_Credit card refinancing  \\\n",
              "0                             0                                   0   \n",
              "1                             0                                   0   \n",
              "2                             0                                   0   \n",
              "3                             0                                   0   \n",
              "4                             0                                   1   \n",
              "\n",
              "   Loan Title_Debt consolidation  Loan Title_Home  Loan Title_Other  \\\n",
              "0                              1                0                 0   \n",
              "1                              1                0                 0   \n",
              "2                              1                0                 0   \n",
              "3                              1                0                 0   \n",
              "4                              0                0                 0   \n",
              "\n",
              "   Founded Amount  \n",
              "0        1.532272  \n",
              "1       -0.087973  \n",
              "2       -0.297849  \n",
              "3       -0.486010  \n",
              "4        0.014689  "
            ],
            "text/html": [
              "\n",
              "  <div id=\"df-997d77b0-5108-4e53-9119-3c31632709f4\">\n",
              "    <div class=\"colab-df-container\">\n",
              "      <div>\n",
              "<style scoped>\n",
              "    .dataframe tbody tr th:only-of-type {\n",
              "        vertical-align: middle;\n",
              "    }\n",
              "\n",
              "    .dataframe tbody tr th {\n",
              "        vertical-align: top;\n",
              "    }\n",
              "\n",
              "    .dataframe thead th {\n",
              "        text-align: right;\n",
              "    }\n",
              "</style>\n",
              "<table border=\"1\" class=\"dataframe\">\n",
              "  <thead>\n",
              "    <tr style=\"text-align: right;\">\n",
              "      <th></th>\n",
              "      <th>Loan Amount</th>\n",
              "      <th>Funded Amount</th>\n",
              "      <th>Funded Amount Investor</th>\n",
              "      <th>Interest Rate</th>\n",
              "      <th>Grade</th>\n",
              "      <th>Sub Grade</th>\n",
              "      <th>Home Ownership</th>\n",
              "      <th>Debit to Income</th>\n",
              "      <th>Delinquency - two years</th>\n",
              "      <th>Inquires - six months</th>\n",
              "      <th>Open Account</th>\n",
              "      <th>Public Record</th>\n",
              "      <th>Revolving Balance</th>\n",
              "      <th>Revolving Utilities</th>\n",
              "      <th>Total Accounts</th>\n",
              "      <th>Initial List Status</th>\n",
              "      <th>Total Received Interest</th>\n",
              "      <th>Total Received Late Fee</th>\n",
              "      <th>Recoveries</th>\n",
              "      <th>Collection Recovery Fee</th>\n",
              "      <th>Collection 12 months Medical</th>\n",
              "      <th>Application Type</th>\n",
              "      <th>Last week Pay</th>\n",
              "      <th>Total Collection Amount</th>\n",
              "      <th>Total Current Balance</th>\n",
              "      <th>Total Revolving Credit Limit</th>\n",
              "      <th>Loan Status</th>\n",
              "      <th>Employment Duration_MORTGAGE</th>\n",
              "      <th>Employment Duration_OWN</th>\n",
              "      <th>Employment Duration_RENT</th>\n",
              "      <th>Term_36</th>\n",
              "      <th>Term_58</th>\n",
              "      <th>Term_59</th>\n",
              "      <th>Verification Status_Not Verified</th>\n",
              "      <th>Verification Status_Source Verified</th>\n",
              "      <th>Verification Status_Verified</th>\n",
              "      <th>Loan Title_Credit card refinancing</th>\n",
              "      <th>Loan Title_Debt consolidation</th>\n",
              "      <th>Loan Title_Home</th>\n",
              "      <th>Loan Title_Other</th>\n",
              "      <th>Founded Amount</th>\n",
              "    </tr>\n",
              "  </thead>\n",
              "  <tbody>\n",
              "    <tr>\n",
              "      <th>0</th>\n",
              "      <td>-0.502150</td>\n",
              "      <td>32236</td>\n",
              "      <td>-0.058215</td>\n",
              "      <td>-0.049565</td>\n",
              "      <td>0.000000</td>\n",
              "      <td>0.076649</td>\n",
              "      <td>2.492479</td>\n",
              "      <td>-0.479379</td>\n",
              "      <td>1</td>\n",
              "      <td>0.0</td>\n",
              "      <td>0.000000</td>\n",
              "      <td>0.0</td>\n",
              "      <td>2.455588</td>\n",
              "      <td>0.683204</td>\n",
              "      <td>-1.1</td>\n",
              "      <td>1</td>\n",
              "      <td>0.766425</td>\n",
              "      <td>1.155358</td>\n",
              "      <td>-0.221301</td>\n",
              "      <td>0.022855</td>\n",
              "      <td>0</td>\n",
              "      <td>0</td>\n",
              "      <td>-0.271429</td>\n",
              "      <td>-0.227273</td>\n",
              "      <td>1.083912</td>\n",
              "      <td>-0.421575</td>\n",
              "      <td>0</td>\n",
              "      <td>1</td>\n",
              "      <td>0</td>\n",
              "      <td>0</td>\n",
              "      <td>0</td>\n",
              "      <td>0</td>\n",
              "      <td>1</td>\n",
              "      <td>1</td>\n",
              "      <td>0</td>\n",
              "      <td>0</td>\n",
              "      <td>0</td>\n",
              "      <td>1</td>\n",
              "      <td>0</td>\n",
              "      <td>0</td>\n",
              "      <td>1.532272</td>\n",
              "    </tr>\n",
              "    <tr>\n",
              "      <th>1</th>\n",
              "      <td>-1.030594</td>\n",
              "      <td>11940</td>\n",
              "      <td>-0.075438</td>\n",
              "      <td>0.175612</td>\n",
              "      <td>0.031683</td>\n",
              "      <td>-0.770648</td>\n",
              "      <td>-0.687154</td>\n",
              "      <td>-0.545009</td>\n",
              "      <td>0</td>\n",
              "      <td>0.0</td>\n",
              "      <td>-0.166667</td>\n",
              "      <td>0.0</td>\n",
              "      <td>-0.616716</td>\n",
              "      <td>0.793454</td>\n",
              "      <td>-0.5</td>\n",
              "      <td>0</td>\n",
              "      <td>-0.267526</td>\n",
              "      <td>-0.142138</td>\n",
              "      <td>-0.252963</td>\n",
              "      <td>0.327576</td>\n",
              "      <td>0</td>\n",
              "      <td>0</td>\n",
              "      <td>0.585714</td>\n",
              "      <td>0.772727</td>\n",
              "      <td>0.360913</td>\n",
              "      <td>0.173065</td>\n",
              "      <td>0</td>\n",
              "      <td>0</td>\n",
              "      <td>0</td>\n",
              "      <td>1</td>\n",
              "      <td>0</td>\n",
              "      <td>0</td>\n",
              "      <td>1</td>\n",
              "      <td>0</td>\n",
              "      <td>1</td>\n",
              "      <td>0</td>\n",
              "      <td>0</td>\n",
              "      <td>1</td>\n",
              "      <td>0</td>\n",
              "      <td>0</td>\n",
              "      <td>-0.087973</td>\n",
              "    </tr>\n",
              "    <tr>\n",
              "      <th>2</th>\n",
              "      <td>1.009013</td>\n",
              "      <td>9311</td>\n",
              "      <td>1.104519</td>\n",
              "      <td>0.238582</td>\n",
              "      <td>-1.523739</td>\n",
              "      <td>-0.636364</td>\n",
              "      <td>0.516400</td>\n",
              "      <td>0.412351</td>\n",
              "      <td>0</td>\n",
              "      <td>0.0</td>\n",
              "      <td>0.166667</td>\n",
              "      <td>0.0</td>\n",
              "      <td>-0.481547</td>\n",
              "      <td>-1.704201</td>\n",
              "      <td>0.2</td>\n",
              "      <td>1</td>\n",
              "      <td>-0.224116</td>\n",
              "      <td>369.021540</td>\n",
              "      <td>0.254126</td>\n",
              "      <td>0.403722</td>\n",
              "      <td>0</td>\n",
              "      <td>0</td>\n",
              "      <td>-0.028571</td>\n",
              "      <td>-0.090909</td>\n",
              "      <td>-0.160498</td>\n",
              "      <td>0.392731</td>\n",
              "      <td>0</td>\n",
              "      <td>1</td>\n",
              "      <td>0</td>\n",
              "      <td>0</td>\n",
              "      <td>0</td>\n",
              "      <td>0</td>\n",
              "      <td>1</td>\n",
              "      <td>0</td>\n",
              "      <td>1</td>\n",
              "      <td>0</td>\n",
              "      <td>0</td>\n",
              "      <td>1</td>\n",
              "      <td>0</td>\n",
              "      <td>0</td>\n",
              "      <td>-0.297849</td>\n",
              "    </tr>\n",
              "    <tr>\n",
              "      <th>3</th>\n",
              "      <td>-0.405408</td>\n",
              "      <td>6954</td>\n",
              "      <td>0.637354</td>\n",
              "      <td>1.093358</td>\n",
              "      <td>0.031683</td>\n",
              "      <td>0.000000</td>\n",
              "      <td>0.907235</td>\n",
              "      <td>-0.347046</td>\n",
              "      <td>1</td>\n",
              "      <td>0.0</td>\n",
              "      <td>-1.000000</td>\n",
              "      <td>0.0</td>\n",
              "      <td>1.088561</td>\n",
              "      <td>0.438610</td>\n",
              "      <td>-0.6</td>\n",
              "      <td>1</td>\n",
              "      <td>-0.499829</td>\n",
              "      <td>0.014454</td>\n",
              "      <td>-0.846648</td>\n",
              "      <td>-0.050764</td>\n",
              "      <td>0</td>\n",
              "      <td>0</td>\n",
              "      <td>-0.414286</td>\n",
              "      <td>0.181818</td>\n",
              "      <td>-0.613385</td>\n",
              "      <td>1.812388</td>\n",
              "      <td>0</td>\n",
              "      <td>1</td>\n",
              "      <td>0</td>\n",
              "      <td>0</td>\n",
              "      <td>0</td>\n",
              "      <td>0</td>\n",
              "      <td>1</td>\n",
              "      <td>0</td>\n",
              "      <td>1</td>\n",
              "      <td>0</td>\n",
              "      <td>0</td>\n",
              "      <td>1</td>\n",
              "      <td>0</td>\n",
              "      <td>0</td>\n",
              "      <td>-0.486010</td>\n",
              "    </tr>\n",
              "    <tr>\n",
              "      <th>4</th>\n",
              "      <td>0.067554</td>\n",
              "      <td>13226</td>\n",
              "      <td>0.093562</td>\n",
              "      <td>0.741486</td>\n",
              "      <td>0.031683</td>\n",
              "      <td>-0.636364</td>\n",
              "      <td>-0.584649</td>\n",
              "      <td>-0.409779</td>\n",
              "      <td>1</td>\n",
              "      <td>3.0</td>\n",
              "      <td>0.000000</td>\n",
              "      <td>1.0</td>\n",
              "      <td>-0.520747</td>\n",
              "      <td>1.021303</td>\n",
              "      <td>0.4</td>\n",
              "      <td>1</td>\n",
              "      <td>-0.576018</td>\n",
              "      <td>379.421091</td>\n",
              "      <td>337.736628</td>\n",
              "      <td>-0.691879</td>\n",
              "      <td>0</td>\n",
              "      <td>0</td>\n",
              "      <td>-0.714286</td>\n",
              "      <td>17.909091</td>\n",
              "      <td>0.043035</td>\n",
              "      <td>0.243675</td>\n",
              "      <td>0</td>\n",
              "      <td>1</td>\n",
              "      <td>0</td>\n",
              "      <td>0</td>\n",
              "      <td>0</td>\n",
              "      <td>0</td>\n",
              "      <td>1</td>\n",
              "      <td>0</td>\n",
              "      <td>1</td>\n",
              "      <td>0</td>\n",
              "      <td>1</td>\n",
              "      <td>0</td>\n",
              "      <td>0</td>\n",
              "      <td>0</td>\n",
              "      <td>0.014689</td>\n",
              "    </tr>\n",
              "  </tbody>\n",
              "</table>\n",
              "</div>\n",
              "      <button class=\"colab-df-convert\" onclick=\"convertToInteractive('df-997d77b0-5108-4e53-9119-3c31632709f4')\"\n",
              "              title=\"Convert this dataframe to an interactive table.\"\n",
              "              style=\"display:none;\">\n",
              "        \n",
              "  <svg xmlns=\"http://www.w3.org/2000/svg\" height=\"24px\"viewBox=\"0 0 24 24\"\n",
              "       width=\"24px\">\n",
              "    <path d=\"M0 0h24v24H0V0z\" fill=\"none\"/>\n",
              "    <path d=\"M18.56 5.44l.94 2.06.94-2.06 2.06-.94-2.06-.94-.94-2.06-.94 2.06-2.06.94zm-11 1L8.5 8.5l.94-2.06 2.06-.94-2.06-.94L8.5 2.5l-.94 2.06-2.06.94zm10 10l.94 2.06.94-2.06 2.06-.94-2.06-.94-.94-2.06-.94 2.06-2.06.94z\"/><path d=\"M17.41 7.96l-1.37-1.37c-.4-.4-.92-.59-1.43-.59-.52 0-1.04.2-1.43.59L10.3 9.45l-7.72 7.72c-.78.78-.78 2.05 0 2.83L4 21.41c.39.39.9.59 1.41.59.51 0 1.02-.2 1.41-.59l7.78-7.78 2.81-2.81c.8-.78.8-2.07 0-2.86zM5.41 20L4 18.59l7.72-7.72 1.47 1.35L5.41 20z\"/>\n",
              "  </svg>\n",
              "      </button>\n",
              "      \n",
              "  <style>\n",
              "    .colab-df-container {\n",
              "      display:flex;\n",
              "      flex-wrap:wrap;\n",
              "      gap: 12px;\n",
              "    }\n",
              "\n",
              "    .colab-df-convert {\n",
              "      background-color: #E8F0FE;\n",
              "      border: none;\n",
              "      border-radius: 50%;\n",
              "      cursor: pointer;\n",
              "      display: none;\n",
              "      fill: #1967D2;\n",
              "      height: 32px;\n",
              "      padding: 0 0 0 0;\n",
              "      width: 32px;\n",
              "    }\n",
              "\n",
              "    .colab-df-convert:hover {\n",
              "      background-color: #E2EBFA;\n",
              "      box-shadow: 0px 1px 2px rgba(60, 64, 67, 0.3), 0px 1px 3px 1px rgba(60, 64, 67, 0.15);\n",
              "      fill: #174EA6;\n",
              "    }\n",
              "\n",
              "    [theme=dark] .colab-df-convert {\n",
              "      background-color: #3B4455;\n",
              "      fill: #D2E3FC;\n",
              "    }\n",
              "\n",
              "    [theme=dark] .colab-df-convert:hover {\n",
              "      background-color: #434B5C;\n",
              "      box-shadow: 0px 1px 3px 1px rgba(0, 0, 0, 0.15);\n",
              "      filter: drop-shadow(0px 1px 2px rgba(0, 0, 0, 0.3));\n",
              "      fill: #FFFFFF;\n",
              "    }\n",
              "  </style>\n",
              "\n",
              "      <script>\n",
              "        const buttonEl =\n",
              "          document.querySelector('#df-997d77b0-5108-4e53-9119-3c31632709f4 button.colab-df-convert');\n",
              "        buttonEl.style.display =\n",
              "          google.colab.kernel.accessAllowed ? 'block' : 'none';\n",
              "\n",
              "        async function convertToInteractive(key) {\n",
              "          const element = document.querySelector('#df-997d77b0-5108-4e53-9119-3c31632709f4');\n",
              "          const dataTable =\n",
              "            await google.colab.kernel.invokeFunction('convertToInteractive',\n",
              "                                                     [key], {});\n",
              "          if (!dataTable) return;\n",
              "\n",
              "          const docLinkHtml = 'Like what you see? Visit the ' +\n",
              "            '<a target=\"_blank\" href=https://colab.research.google.com/notebooks/data_table.ipynb>data table notebook</a>'\n",
              "            + ' to learn more about interactive tables.';\n",
              "          element.innerHTML = '';\n",
              "          dataTable['output_type'] = 'display_data';\n",
              "          await google.colab.output.renderOutput(dataTable, element);\n",
              "          const docLink = document.createElement('div');\n",
              "          docLink.innerHTML = docLinkHtml;\n",
              "          element.appendChild(docLink);\n",
              "        }\n",
              "      </script>\n",
              "    </div>\n",
              "  </div>\n",
              "  "
            ]
          },
          "metadata": {},
          "execution_count": 37
        }
      ]
    },
    {
      "cell_type": "markdown",
      "source": [
        "## 4. Modelo predictivo <a name=\"id40\"></a>"
      ],
      "metadata": {
        "id": "hQCcmkbDU63K"
      }
    },
    {
      "cell_type": "markdown",
      "source": [
        "### 4.1 Arbol de decisión   <a name=\"id41\"></a> \n",
        "\n",
        "Los árboles de decisión son un método popular en el campo de la ciencia de datos para la clasificación y predicción.\n",
        "\n",
        "En términos simples, un árbol de decisión es una estructura de datos en forma de árbol que se utiliza para tomar decisiones en función de una serie de condiciones. En el contexto de los préstamos bancarios, un árbol de decisión podría utilizarse para predecir si un préstamo se convertirá en deudor o no en función de una serie de características del prestamo.\n",
        "\n",
        "El árbol de decisión comienza con un nodo raíz que representa la pregunta que divide la mayor cantidad de datos (por ejemplo, \"¿El monto del prestamos ?\"). A partir de ahí, el árbol se ramifica en varios nodos, cada uno representando otra posible pregunta \"¿El monto del prestamo es superior a $10.000?\", \"¿La tasa de interes es superior al 12%?\", etc. Todo esto para llegar a la conclusión final, que sumado todas las caracteristicas anteriores, da como resultado mayor probabilidad de que sea moroso o no."
      ],
      "metadata": {
        "id": "PTv21x0WP9H1"
      }
    },
    {
      "cell_type": "markdown",
      "source": [
        "#### Carga de datos \n",
        "\n",
        "\n",
        "\n",
        "Preparamos los datos e importamos las galerias necesarias para podes aplicar este metodo."
      ],
      "metadata": {
        "id": "P-FksfJ-R3eO"
      }
    },
    {
      "cell_type": "code",
      "source": [
        "from sklearn.linear_model import LogisticRegression\n",
        "from sklearn.tree import DecisionTreeClassifier\n",
        "from sklearn.ensemble import RandomForestClassifier\n",
        "from sklearn.neighbors import KNeighborsClassifier\n",
        "from sklearn.naive_bayes import GaussianNB\n",
        "from sklearn.metrics import accuracy_score\n",
        "from sklearn.metrics import f1_score\n",
        "from sklearn import metrics"
      ],
      "metadata": {
        "id": "wysuzE1T2cf-"
      },
      "execution_count": 50,
      "outputs": []
    },
    {
      "cell_type": "code",
      "source": [
        "from sklearn.tree import plot_tree                  #Sirve para la hora de graficar el arbol.\n",
        "y = loan_new['Loan Status']                            #Creamos la variable que contiene la columna de los morosos.\n",
        "X = loan_new.drop('Loan Status', axis=1)               #El DF sin la variable a predecir."
      ],
      "metadata": {
        "id": "8ihu-hGSekJh"
      },
      "execution_count": 51,
      "outputs": []
    },
    {
      "cell_type": "code",
      "source": [
        "from sklearn.model_selection import train_test_split     # Libreria para dividir los datos en \"test\" y \"train\"\n",
        "\n",
        "#------ Dividimos los datos en conjunto de entrenamiento y conjunto de prueba\n",
        "X_train, X_test, y_train, y_test = train_test_split(X, y,  \n",
        "                                                    test_size=0.3,    \n",
        "                                                    random_state=33)"
      ],
      "metadata": {
        "id": "XKxWyCL32OEw"
      },
      "execution_count": 52,
      "outputs": []
    },
    {
      "cell_type": "markdown",
      "source": [
        "#### Analisis de la profundidad del árbol\n",
        "\n",
        "Este análisis nos servirá para comprobar cual es la mejor profundidad que le tenemos que asignar al árbol de decisión para que tenga una mejor predicción de los datos nuevos, si dejamos que sea automatico habrá sobreajuste ya que hará un árbol enfocado a predecir de la mejor forma los datos de entrenamiento, pero no nos servirá para predecir nuevos datos."
      ],
      "metadata": {
        "id": "skW-hX6UWRx1"
      }
    },
    {
      "cell_type": "code",
      "source": [
        "rango_profundidad = range(1,30)\n",
        "train_scores = []\n",
        "test_scores = []"
      ],
      "metadata": {
        "id": "yYmPnq7VZrRh"
      },
      "execution_count": 53,
      "outputs": []
    },
    {
      "cell_type": "code",
      "source": [
        "for depth in rango_profundidad:\n",
        "    clf = DecisionTreeClassifier(max_depth=depth)\n",
        "    clf.fit(X_train, y_train)\n",
        "    y_train_pred = clf.predict(X_train)\n",
        "    y_test_pred = clf.predict(X_test)\n",
        "    train_score = metrics.f1_score(y_train, y_train_pred,pos_label=1)#, average='weighted')\n",
        "    test_score = metrics.f1_score(y_test, y_test_pred, pos_label=1 )#,average='weighted')\n",
        "    train_scores.append(train_score)\n",
        "    test_scores.append(test_score)"
      ],
      "metadata": {
        "id": "G_qgu5oYZx4V"
      },
      "execution_count": 54,
      "outputs": []
    },
    {
      "cell_type": "code",
      "source": [
        "fig, ax = plt.subplots(figsize=(12,4))\n",
        "plt.plot(rango_profundidad, train_scores, label='train',color=\"black\")\n",
        "plt.plot(rango_profundidad, test_scores, label='test', color=\"orange\")\n",
        "plt.xlabel('Profundidad del Árbol (max_depth)')\n",
        "plt.ylabel('F1 score')\n",
        "ax.set_title(\"Variación del F1 Score según profundidad del Árbol de Decisión\")\n",
        "plt.legend()\n",
        "plt.show()"
      ],
      "metadata": {
        "colab": {
          "base_uri": "https://localhost:8080/",
          "height": 300
        },
        "id": "D2unqn9gaFoZ",
        "outputId": "00d6c44b-cd6d-4c58-8730-402a22a36f9b"
      },
      "execution_count": 55,
      "outputs": [
        {
          "output_type": "display_data",
          "data": {
            "text/plain": [
              "<Figure size 864x288 with 1 Axes>"
            ],
            "image/png": "[encoded data removed]"
          },
          "metadata": {
            "needs_background": "light"
          }
        }
      ]
    },
    {
      "cell_type": "markdown",
      "source": [
        "Con este grafico se ve que no hay una mejora drastica del F1 Score al usar mucha mas profundidad 20-25 para predecir, no en cambio para predecir los datos de entrenamiento, que cada mas libertad de profudidad le dejemos, hará un sobre ajuste hasta llegar a un 100%, es decir, ordenar perfectamente todos los datos, pero siendo inutil para los datos nuevos."
      ],
      "metadata": {
        "id": "VIjztFF5tWTo"
      }
    },
    {
      "cell_type": "markdown",
      "source": [
        "#### Creación de arbol de decisión"
      ],
      "metadata": {
        "id": "nZDd0GA0Ho86"
      }
    },
    {
      "cell_type": "markdown",
      "source": [
        "Terminaremos usando 20 nodos de profundidad, junto con un balance de los pesos de los datos, esto lo usamos ya que, al estar desproporcionada la variable a predecir (que haya tan solo 9% de los datos positivos), puede afectar a la hora de entrenar al modelo."
      ],
      "metadata": {
        "id": "sNwDo9GGt3VF"
      }
    },
    {
      "cell_type": "code",
      "source": [
        "tree = DecisionTreeClassifier(max_depth=20,  # Se usara 26 de profundidad\n",
        "                             class_weight='balanced',\n",
        "                              random_state=33)           # Semilla 33\n",
        "tree.fit(X_train, y_train)\n",
        "\n",
        "#------ Predecir las etiquetas del conjunto de prueba\n",
        "y_pred = tree.predict(X_test)"
      ],
      "metadata": {
        "id": "eoyp4ReFQDei"
      },
      "execution_count": 83,
      "outputs": []
    },
    {
      "cell_type": "markdown",
      "source": [
        "####Evaluación de la efectividad del modelo "
      ],
      "metadata": {
        "id": "niH_la6fRMXM"
      }
    },
    {
      "cell_type": "code",
      "source": [
        "#------ Evaluamos la precisión del modelo en el conjunto de prueba\n",
        "accuracy = accuracy_score(y_test, y_pred)\n",
        "print(\"Precisión del modelo: {:.2f}%\".format(accuracy*100))"
      ],
      "metadata": {
        "colab": {
          "base_uri": "https://localhost:8080/"
        },
        "id": "c-5VMsonRT7Q",
        "outputId": "b45503ef-c193-47f7-ef67-e48d1f15ad79"
      },
      "execution_count": 84,
      "outputs": [
        {
          "output_type": "stream",
          "name": "stdout",
          "text": [
            "Precisión del modelo: 70.79%\n"
          ]
        }
      ]
    },
    {
      "cell_type": "code",
      "source": [
        "from sklearn.metrics import confusion_matrix\n",
        "\n",
        "#------ Crear una matriz de confusión\n",
        "conf_mat2 = confusion_matrix(y_test, y_pred)\n",
        "#------ Crear un heatmap de la matriz de confusión\n",
        "sns.heatmap(conf_mat2, annot=True, cmap=\"Oranges\", fmt=\"d\")\n",
        "plt.title(\"Matriz de confusión\")\n",
        "plt.xlabel(\"Predicción\")\n",
        "plt.ylabel(\"Valor real\")\n",
        "plt.show()"
      ],
      "metadata": {
        "colab": {
          "base_uri": "https://localhost:8080/",
          "height": 295
        },
        "id": "vBIDE_nMQvNP",
        "outputId": "9750b51d-cef3-4e89-99ce-1fa3911926a4"
      },
      "execution_count": 85,
      "outputs": [
        {
          "output_type": "display_data",
          "data": {
            "text/plain": [
              "<Figure size 432x288 with 2 Axes>"
            ],
            "image/png": "[encoded data removed]"
          },
          "metadata": {
            "needs_background": "light"
          }
        }
      ]
    },
    {
      "cell_type": "code",
      "source": [
        "from sklearn import metrics\n",
        "print(metrics.classification_report(y_test, y_pred),\"\\n\\n\")\n",
        "f1_pos = metrics.f1_score(y_test, y_pred, pos_label=1)\n",
        "print(\"Uilizaremos el valor de:\",round(f1_pos,7),\"provisto por el F1 de los positivos (morosos) para comparar.\")"
      ],
      "metadata": {
        "colab": {
          "base_uri": "https://localhost:8080/"
        },
        "id": "kYLEh4hKzTlc",
        "outputId": "6aae3dab-b74a-4dc3-e9ac-48460e5043e2"
      },
      "execution_count": 86,
      "outputs": [
        {
          "output_type": "stream",
          "name": "stdout",
          "text": [
            "              precision    recall  f1-score   support\n",
            "\n",
            "           0       0.91      0.76      0.82     18327\n",
            "           1       0.10      0.26      0.14      1912\n",
            "\n",
            "    accuracy                           0.71     20239\n",
            "   macro avg       0.50      0.51      0.48     20239\n",
            "weighted avg       0.83      0.71      0.76     20239\n",
            " \n",
            "\n",
            "\n",
            "Uilizaremos el valor de: 0.1421938 provisto por el F1 de los positivos (morosos) para comparar.\n"
          ]
        }
      ]
    },
    {
      "cell_type": "code",
      "source": [
        "f1_pos = metrics.f1_score(y_test, y_pred, pos_label=1)\n",
        "f1_pos"
      ],
      "metadata": {
        "colab": {
          "base_uri": "https://localhost:8080/"
        },
        "id": "AX4QIHqF81RP",
        "outputId": "f460d2c7-934a-48dd-dd1b-bc365e9543fc"
      },
      "execution_count": 87,
      "outputs": [
        {
          "output_type": "execute_result",
          "data": {
            "text/plain": [
              "0.14219384793964018"
            ]
          },
          "metadata": {},
          "execution_count": 87
        }
      ]
    },
    {
      "cell_type": "markdown",
      "source": [
        "#### Conclusión\n",
        "\n",
        "Aunque el accuracy parezca alto, vamos a utilizar el F1 Score Positivo para medir la efectividad del modelo, ya que el objetivo es que prediga la mayor cantidad de morosos posibles y nos da mayor información que el accuracy. El valor dado es de un 14% , un valor demasiado bajo para nuestro objetivo, tan solo pudo predecir correctamente 490 datos de 1912, un 26% (recall positivo)"
      ],
      "metadata": {
        "id": "hxsCAC5X6Sf_"
      }
    },
    {
      "cell_type": "markdown",
      "source": [
        "### 4.2 KNN <a name=\"id42\"></a>\n",
        "\n",
        "El modelo predictivo KNN (k vecinos más cercanos) es un algoritmo de aprendizaje supervisado que utiliza la proximidad o distancia entre los puntos de datos para hacer clasificaciones o predicciones. La caracteristica de este modelo a utilizar son:\n",
        "- n_neghbors: Números de vecinos más cercanos a considerar. Se tomará el valor de 1.\n",
        "- wieghts: Peso utilizado para la predicción. Se utilizará \"uniform\" que quiere decir que todos los puntos en cada vecindario se ponderan por igual. "
      ],
      "metadata": {
        "id": "-QGkr5ASIA8c"
      }
    },
    {
      "cell_type": "code",
      "source": [
        "# Dividir los datos en un conjunto de entrenamiento y un conjunto de prueba\n",
        "X_trainKNN, X_testKNN, y_trainKNN, y_testKNN = train_test_split(X, y, test_size=0.3, random_state=33)\n",
        "\n",
        "# Crear un clasificador KNN con k=5\n",
        "knn = KNeighborsClassifier(n_neighbors=1, n_jobs=-1,  weights='uniform')\n",
        "\n",
        "# Entrenar el modelo usando el conjunto de entrenamiento\n",
        "knn.fit(X_trainKNN, y_trainKNN)\n",
        "\n",
        "# Hacer predicciones sobre el conjunto de prueba\n",
        "y_predKNN = knn.predict(X_testKNN)\n",
        "\n",
        "# Calcular la precisión del modelo\n",
        "accuracy = accuracy_score(y_testKNN, y_predKNN)\n",
        "\n",
        "# Imprimir la precisión del modelo\n",
        "print('Precisión del modelo:', accuracy)"
      ],
      "metadata": {
        "colab": {
          "base_uri": "https://localhost:8080/"
        },
        "id": "jMBIIOG5J7Gg",
        "outputId": "a80f50ce-b1ee-442c-b691-70c37dae5f6e"
      },
      "execution_count": 88,
      "outputs": [
        {
          "output_type": "stream",
          "name": "stdout",
          "text": [
            "Precisión del modelo: 0.833687435149958\n"
          ]
        }
      ]
    },
    {
      "cell_type": "code",
      "source": [
        "#------ Crear una matriz de confusión\n",
        "conf_mat3 = confusion_matrix(y_testKNN, y_predKNN)\n",
        "#------ Crear un heatmap de la matriz de confusión\n",
        "sns.heatmap(conf_mat3, annot=True, cmap=\"Oranges\", fmt=\"d\")\n",
        "plt.title(\"Matriz de confusión\")\n",
        "plt.xlabel(\"Predicción\")\n",
        "plt.ylabel(\"Valor real\")\n",
        "plt.show()"
      ],
      "metadata": {
        "colab": {
          "base_uri": "https://localhost:8080/",
          "height": 295
        },
        "id": "C-jcIWUKKS9Y",
        "outputId": "d223ba1e-37b5-4c21-db7c-0823b5e4d103"
      },
      "execution_count": 68,
      "outputs": [
        {
          "output_type": "display_data",
          "data": {
            "text/plain": [
              "<Figure size 432x288 with 2 Axes>"
            ],
            "image/png": "[encoded data removed]"
          },
          "metadata": {
            "needs_background": "light"
          }
        }
      ]
    },
    {
      "cell_type": "code",
      "source": [
        "\n",
        "results = []\n",
        "for n in range(1, 11):\n",
        "    knn = KNeighborsClassifier(n_neighbors=n)\n",
        "    knn.fit(X_trainKNN, y_trainKNN)\n",
        "    y_predKNN = knn.predict(X_testKNN)\n",
        "    f1 = f1_score(y_testKNN, y_predKNN, pos_label=1)\n",
        "    results.append((n, f1))\n",
        "\n",
        "# Encontrar el valor de n_neighbors que da el mejor F1 score positivo\n",
        "best_n = max(results, key=lambda x: x[1])[0]\n",
        "best_f1 = max(results, key=lambda x: x[1])[1]\n",
        "print(f\"Mejor valor de n_neighbors: {best_n}, F1-score positivo: {best_f1:.3f}\")"
      ],
      "metadata": {
        "colab": {
          "base_uri": "https://localhost:8080/"
        },
        "id": "d7A1cS0xMpJA",
        "outputId": "7c7d3a81-08b2-4f12-de0b-ae4e331f45b0"
      },
      "execution_count": 69,
      "outputs": [
        {
          "output_type": "stream",
          "name": "stdout",
          "text": [
            "Mejor valor de n_neighbors: 1, F1-score positivo: 0.105\n"
          ]
        }
      ]
    },
    {
      "cell_type": "markdown",
      "source": [
        "#### Conclusión\n",
        "\n",
        "Este modelo obtiene un accuracy mucho mayor al anterior modelo, pero si utilizamos el F1-Score vemos que es inferior, esto se puede comprobar con la matriz de confusión, donde predijo muchos menos valores positivos que el árbol de decisión."
      ],
      "metadata": {
        "id": "flbVe0rP3G1a"
      }
    },
    {
      "cell_type": "markdown",
      "source": [
        "### 4.3 Regresión logistica <a name=\"id43\"></a>\n",
        "\n",
        "Por ultimo utilizaremos la regresión logistica. Esta se trata de un modelo lineal generalizado que utiliza una función logística como función de enlace para estimar la probabilidad de que ocurra un evento o una categoría a partir de los valores de las variables independientes.\n",
        "\n",
        "El parametro que vamos a utilizar será:\n",
        "- Class_weight: \"Balanced\" Lo mismo que se usó para arboles de decisión, hace que el peso de los datos de entrada sean equitativos, lo usamos ya que hay muy baja proporcion de datos que son \"1\" en \"Loan Status\" para predecir."
      ],
      "metadata": {
        "id": "KCLXWa3r3tGy"
      }
    },
    {
      "cell_type": "code",
      "source": [
        "from sklearn.linear_model import LogisticRegression\n",
        "# Dividir los datos en un conjunto de entrenamiento y un conjunto de prueba\n",
        "X_train3, X_test3, y_train3, y_test3 = train_test_split(X, y, test_size=0.3, random_state=33)\n",
        "# Applicar regresión logistica\n",
        "lr = LogisticRegression(class_weight=\"balanced\")\n",
        "lr.fit(X_train3, y_train3)\n",
        "y_pred3 = lr.predict(X_test3)\n",
        "accuracy3 = accuracy_score(y_test3, y_pred3)\n",
        "\n",
        "# Imprimir la precisión del modelo\n",
        "print('Precisión del modelo:', accuracy3)"
      ],
      "metadata": {
        "colab": {
          "base_uri": "https://localhost:8080/"
        },
        "id": "Uu7WiuyIB9Gp",
        "outputId": "e1c38982-6aa3-4491-d018-780498f7472a"
      },
      "execution_count": 92,
      "outputs": [
        {
          "output_type": "stream",
          "name": "stdout",
          "text": [
            "Precisión del modelo: 0.540244083205692\n"
          ]
        },
        {
          "output_type": "stream",
          "name": "stderr",
          "text": [
            "/usr/local/lib/python3.9/dist-packages/sklearn/linear_model/_logistic.py:458: ConvergenceWarning: lbfgs failed to converge (status=1):\n",
            "STOP: TOTAL NO. of ITERATIONS REACHED LIMIT.\n",
            "\n",
            "Increase the number of iterations (max_iter) or scale the data as shown in:\n",
            "    https://scikit-learn.org/stable/modules/preprocessing.html\n",
            "Please also refer to the documentation for alternative solver options:\n",
            "    https://scikit-learn.org/stable/modules/linear_model.html#logistic-regression\n",
            "  n_iter_i = _check_optimize_result(\n"
          ]
        }
      ]
    },
    {
      "cell_type": "code",
      "source": [
        "#------ Crear una matriz de confusión\n",
        "conf_mat4 = confusion_matrix(y_test3, y_pred3)\n",
        "#------ Crear un heatmap de la matriz de confusión\n",
        "sns.heatmap(conf_mat4, annot=True, cmap=\"Oranges\", fmt=\"d\")\n",
        "plt.title(\"Matriz de confusión\")\n",
        "plt.xlabel(\"Predicción\")\n",
        "plt.ylabel(\"Valor real\")\n",
        "plt.show()"
      ],
      "metadata": {
        "colab": {
          "base_uri": "https://localhost:8080/",
          "height": 295
        },
        "id": "r5K5uWyKD9Ok",
        "outputId": "7558ab4e-7ab6-43d4-c69f-3876968bbf41"
      },
      "execution_count": 71,
      "outputs": [
        {
          "output_type": "display_data",
          "data": {
            "text/plain": [
              "<Figure size 432x288 with 2 Axes>"
            ],
            "image/png": "[encoded data removed]"
          },
          "metadata": {
            "needs_background": "light"
          }
        }
      ]
    },
    {
      "cell_type": "code",
      "source": [
        "f1_pos3 = metrics.f1_score(y_test3, y_pred3, pos_label=1)\n",
        "f1_pos3"
      ],
      "metadata": {
        "colab": {
          "base_uri": "https://localhost:8080/"
        },
        "id": "PmEwDrrJspa5",
        "outputId": "fca5227d-cd8a-4ce0-e7e3-61448e5e0728"
      },
      "execution_count": 91,
      "outputs": [
        {
          "output_type": "execute_result",
          "data": {
            "text/plain": [
              "0.16852828165490125"
            ]
          },
          "metadata": {},
          "execution_count": 91
        }
      ]
    },
    {
      "cell_type": "markdown",
      "source": [
        "#### Conclusión\n",
        "\n",
        "La RL por el contrario que todos los demas, obtenemos un Accuracy bajo pero un F1 Score mas elevado que los anteriores, a priori si solo nos fijamos en el F1 podriamos decir que es mucho mejor predictor de morosos que los demas, pero lo que al ver la Matriz de confusión se observa que el modelo tiende a predecir a todos los valores como positivos, por lo que hay mucha cantidad de falsos positivos que tambien es perjudicial para la predicción."
      ],
      "metadata": {
        "id": "DFk2iB7XQQTn"
      }
    },
    {
      "cell_type": "markdown",
      "source": [
        "## 5. Conclusiones <a name=\"id50\"></a>"
      ],
      "metadata": {
        "id": "m49xI4zmTZut"
      }
    },
    {
      "cell_type": "markdown",
      "source": [
        "Analizaremos los 3 métodos que hemos aprendido para el analisis de una variable binaria mediante la matriz de confusión y su respectivo F1-Score positivo de cada uno de ellos para ver cual es el mejor para predecir."
      ],
      "metadata": {
        "id": "Cio37xFIzzBI"
      }
    },
    {
      "cell_type": "code",
      "source": [
        "#Matriz para el arbol de decision\n",
        "sns.heatmap(conf_mat2, annot=True, cmap=\"Oranges\", fmt=\"d\")\n",
        "plt.title(\"Matriz de confusión del Árbol de Decisión\")\n",
        "plt.xlabel(\"Predicción\")\n",
        "plt.ylabel(\"Valor real\")\n",
        "plt.show()\n",
        "#KNN\n",
        "sns.heatmap(conf_mat3, annot=True, cmap=\"Oranges\", fmt=\"d\")\n",
        "plt.title(\"Matriz de confusión del KNN\")\n",
        "plt.xlabel(\"Predicción\")\n",
        "plt.ylabel(\"Valor real\")\n",
        "plt.show()\n",
        "#RL\n",
        "sns.heatmap(conf_mat4, annot=True, cmap=\"Oranges\", fmt=\"d\")\n",
        "plt.title(\"Matriz de confusión de la Regresión Logistica\")\n",
        "plt.xlabel(\"Predicción\")\n",
        "plt.ylabel(\"Valor real\")\n",
        "plt.show()"
      ],
      "metadata": {
        "colab": {
          "base_uri": "https://localhost:8080/",
          "height": 851
        },
        "id": "MiOMQtsrT0mY",
        "outputId": "9f92a305-c34c-4a1a-cd0e-a0de28041e6b"
      },
      "execution_count": 72,
      "outputs": [
        {
          "output_type": "display_data",
          "data": {
            "text/plain": [
              "<Figure size 432x288 with 2 Axes>"
            ],
            "image/png": "[encoded data removed]"
          },
          "metadata": {
            "needs_background": "light"
          }
        },
        {
          "output_type": "display_data",
          "data": {
            "text/plain": [
              "<Figure size 432x288 with 2 Axes>"
            ],
            "image/png": "[encoded data removed]"
          },
          "metadata": {
            "needs_background": "light"
          }
        },
        {
          "output_type": "display_data",
          "data": {
            "text/plain": [
              "<Figure size 432x288 with 2 Axes>"
            ],
            "image/png": "[encoded data removed]"
          },
          "metadata": {
            "needs_background": "light"
          }
        }
      ]
    },
    {
      "cell_type": "code",
      "source": [
        "f1_pos = metrics.f1_score(y_test, y_pred, pos_label=1)\n",
        "print(\"-  El valor de F1-score positivo para ÁRBOL DE DECISIÓN       es igual a:\",f1_pos,\"\\n\")\n",
        "f1_pos2 = metrics.f1_score(y_testKNN, y_predKNN, pos_label=1)\n",
        "print(\"-  El valor de F1-score positivo para: KNN                    es igual a:\",best_f1,\"\\n\")\n",
        "f1_pos3 = metrics.f1_score(y_test3, y_pred3, pos_label=1)\n",
        "print(\"-  El valor de F1-score positivo para: REGRESIÓN LOGISTICA    es igual a:\",f1_pos3)"
      ],
      "metadata": {
        "colab": {
          "base_uri": "https://localhost:8080/"
        },
        "id": "zfRBSHc1XNij",
        "outputId": "46bb84e4-9abd-4219-c7d9-65550987c786"
      },
      "execution_count": 73,
      "outputs": [
        {
          "output_type": "stream",
          "name": "stdout",
          "text": [
            "-  El valor de F1-score positivo para ÁRBOL DE DECISIÓN       es igual a: 0.13976440624005093 \n",
            "\n",
            "-  El valor de F1-score positivo para: KNN                    es igual a: 0.1047872340425532 \n",
            "\n",
            "-  El valor de F1-score positivo para: REGRESIÓN LOGISTICA    es igual a: 0.16852828165490125\n"
          ]
        }
      ]
    },
    {
      "cell_type": "markdown",
      "source": [
        "Después de analizar los 3 métodos de análisis, se encontró que el modelo de Árbol de decisión obtuvo los mejores resultados en la predicción de morosidad en el banco. Sin embargo, la Regresión Logistica tuvo un mejor rendimiento en el F1 score, pero el mismo como lo analizamos previamente se da por la tendencia a predecir una mayor cantidad de valores positivos, aumentando los casos de falsos positivos. Por esto mismo se eligirá como modelo (de lo que hemos aprendido hasta ahora en el curso) como el mejor a la hora de predecir con este conjunto de datos.\n",
        "\n",
        "Para poder solucionarlo un método que nos puede servir es duplicar los datos morosos, esto lo que hace es igualar la cantidad de morosos con los que no, así le \"decimos\" al modelo que no intente de obtener el mejor resultado tratando de acertar la mayoria de veces, esto simplemente lo puede lograr prediciendo el 100% de los datos no morosos obteniendo así un 90% de efectividad, y se enfoque en buscar realmente la relación que hay con los deudores para intentar predecirlo correctamente."
      ],
      "metadata": {
        "id": "xlAf2heTsa9k"
      }
    }
  ],
  "metadata": {
    "colab": {
      "provenance": [],
      "collapsed_sections": [
        "aXKtx6tG5MEm",
        "-lT2RxtZ5Vd7",
        "CqNIH7uYHxgn",
        "8Mm9h_glykYP",
        "2peJvRrXytDJ",
        "O4uP8bgjQYxu",
        "iT8fL4igQYxx",
        "92RhWyowRESF",
        "l_Zs3LYHTs2b",
        "gJZDYkWzOm2-",
        "P-FksfJ-R3eO",
        "wOoZ7HqqL9Kf",
        "_n8kyb0BELqf"
      ],
      "include_colab_link": true
    },
    "kernelspec": {
      "display_name": "Python 3",
      "language": "python",
      "name": "python3"
    },
    "language_info": {
      "codemirror_mode": {
        "name": "ipython",
        "version": 3
      },
      "file_extension": ".py",
      "mimetype": "text/x-python",
      "name": "python",
      "nbconvert_exporter": "python",
      "pygments_lexer": "ipython3",
      "version": "3.9.13"
    },
    "orig_nbformat": 4,
    "vscode": {
      "interpreter": {
        "hash": "9d6963027f957044f3f04d1737e17181660ff5e8924919601d5adc7a35a9b2b7"
      }
    }
  },
  "nbformat": 4,
  "nbformat_minor": 0
}
